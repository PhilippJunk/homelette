{
 "cells": [
  {
   "cell_type": "markdown",
   "id": "95106c63-5814-4e84-aa06-f52e4fd946a0",
   "metadata": {},
   "source": [
    "# Tutorial 2: Modelling"
   ]
  },
  {
   "cell_type": "code",
   "execution_count": 1,
   "id": "1a22cfe3-648b-4dbb-bcbe-05f679a6fd95",
   "metadata": {},
   "outputs": [],
   "source": [
    "import os\n",
    "\n",
    "import homelette as hm"
   ]
  },
  {
   "cell_type": "markdown",
   "id": "5f401d22-b557-4a02-bb38-e8f1a2b57443",
   "metadata": {},
   "source": [
    "## Introduction\n",
    "\n",
    "Welcome to the second tutorial for `homelette`. In this tutorial, we will further explore the already implemented method to generate homology models. \n",
    "\n",
    "Currently, the following software packages for generating homology models have been integrated in the `homelette` homology modelling interface:\n",
    "\n",
    "- `modeller`: A robust package for homology modelling with a long history which is widely used [1,2]\n",
    "- `altmod`: A modification to the standard `modeller` modelling procedure that has been reported to increase the quality of models [3]\n",
    "- `ProMod3`: The modelling engine behind the popular SwissModel web platform [4,5]\n",
    "\n",
    "Specifically, the following routines are implemented in `homelette`. For more details on the individual routines, please check the documentation or their respective docstring.\n",
    "\n",
    "- `routines.Routine_automodel_default`\n",
    "- `routines.Routine_automodel_slow`\n",
    "- `routines.Routine_altmod_default`\n",
    "- `routines.Routine_altmod_slow`\n",
    "- `routines.Routine_promod3`\n",
    "\n",
    "In this example, we will generate models for the RBD domain of ARAF. ARAF is a RAF kinase important in MAPK signalling. As a template, we will choose a close relative of ARAF called BRAF, specifically the structure with the PDB code [3NY5](https://www.rcsb.org/structure/3NY5).\n",
    "\n",
    "All files necessary for running this tutorial are already prepared and deposited in the following directory: `homelette/example/data/`. If you execute this tutorial from `homelette/example/`, you don't have to adapt any of the paths.\n",
    "\n",
    "`homelette` comes with an extensive documentation. You can either check out our [online documentation](https://homelette.readthedocs.io/), compile a local version of the documentation in `homelette/docs/` with `sphinx` or use the `help()` function in Python."
   ]
  },
  {
   "cell_type": "markdown",
   "id": "cb91aef5-4580-4bb7-93d5-a8c8459fb8d5",
   "metadata": {},
   "source": [
    "## Alignment\n",
    "\n",
    "For this tutorial, we will use the same alignment and template as for **Tutorial 1**."
   ]
  },
  {
   "cell_type": "code",
   "execution_count": 2,
   "id": "4a22f639-c88f-47ca-afec-355f9fdc5c05",
   "metadata": {},
   "outputs": [
    {
     "name": "stdout",
     "output_type": "stream",
     "text": [
      "ARAF        ---GTVKVYLPNKQRTVVTVRDGMSVYDSLDKALKVRGLNQDCCVVYRLIKGRKTVTAWDTAIAPLDGEE\n",
      "3NY5        HQKPIVRVFLPNKQRTVVPARCGVTVRDSLKKAL--RGLIPECCAVYRIQ---KKPIGWDTDISWLTGEE\n",
      "\n",
      "\n",
      "ARAF        LIVEVL------\n",
      "3NY5        LHVEVLENVPLT\n",
      "\n",
      "\n"
     ]
    }
   ],
   "source": [
    "# read in the alignment\n",
    "aln = hm.Alignment('data/single/aln_1.fasta_aln')\n",
    "\n",
    "# print to screen to check alignment\n",
    "aln.print_clustal(line_wrap=70)"
   ]
  },
  {
   "cell_type": "code",
   "execution_count": 3,
   "id": "126687a1-32a9-44fa-bb0b-d034adf7a1fa",
   "metadata": {},
   "outputs": [],
   "source": [
    "# annotate the alignment\n",
    "aln.get_sequence('ARAF').annotate(seq_type = 'sequence')\n",
    "aln.get_sequence('3NY5').annotate(seq_type = 'structure',\n",
    "                              pdb_code = '3NY5',\n",
    "                              begin_res = '1',\n",
    "                              begin_chain = 'A',\n",
    "                              end_res = '81', \n",
    "                              end_chain = 'A')"
   ]
  },
  {
   "cell_type": "markdown",
   "id": "76f14e79-f23e-4102-9677-f2bbd7a5753b",
   "metadata": {},
   "source": [
    "## Model Generation using `routines`\n",
    "\n",
    "The building blocks in `homelette` that take care of model generation are called Routines. There is a number of pre-defined routines, and it is also possible to construct custom routines (see **Tutorial 4**). Every routine in `homelette` expects a number of identical arguments, while some can have a few optional ones as well."
   ]
  },
  {
   "cell_type": "code",
   "execution_count": 4,
   "id": "d5f2a0b1-fbd5-4fc6-93c5-21b425e9fc4e",
   "metadata": {},
   "outputs": [
    {
     "data": {
      "text/plain": [
       "\u001b[0;31mInit signature:\u001b[0m\n",
       "\u001b[0mhm\u001b[0m\u001b[0;34m.\u001b[0m\u001b[0mroutines\u001b[0m\u001b[0;34m.\u001b[0m\u001b[0mRoutine_automodel_default\u001b[0m\u001b[0;34m(\u001b[0m\u001b[0;34m\u001b[0m\n",
       "\u001b[0;34m\u001b[0m    \u001b[0malignment\u001b[0m\u001b[0;34m:\u001b[0m \u001b[0mType\u001b[0m\u001b[0;34m[\u001b[0m\u001b[0mForwardRef\u001b[0m\u001b[0;34m(\u001b[0m\u001b[0;34m'Alignment'\u001b[0m\u001b[0;34m)\u001b[0m\u001b[0;34m]\u001b[0m\u001b[0;34m,\u001b[0m\u001b[0;34m\u001b[0m\n",
       "\u001b[0;34m\u001b[0m    \u001b[0mtarget\u001b[0m\u001b[0;34m:\u001b[0m \u001b[0mstr\u001b[0m\u001b[0;34m,\u001b[0m\u001b[0;34m\u001b[0m\n",
       "\u001b[0;34m\u001b[0m    \u001b[0mtemplates\u001b[0m\u001b[0;34m:\u001b[0m \u001b[0mIterable\u001b[0m\u001b[0;34m,\u001b[0m\u001b[0;34m\u001b[0m\n",
       "\u001b[0;34m\u001b[0m    \u001b[0mtag\u001b[0m\u001b[0;34m:\u001b[0m \u001b[0mstr\u001b[0m\u001b[0;34m,\u001b[0m\u001b[0;34m\u001b[0m\n",
       "\u001b[0;34m\u001b[0m    \u001b[0mn_threads\u001b[0m\u001b[0;34m:\u001b[0m \u001b[0mint\u001b[0m \u001b[0;34m=\u001b[0m \u001b[0;36m1\u001b[0m\u001b[0;34m,\u001b[0m\u001b[0;34m\u001b[0m\n",
       "\u001b[0;34m\u001b[0m    \u001b[0mn_models\u001b[0m\u001b[0;34m:\u001b[0m \u001b[0mint\u001b[0m \u001b[0;34m=\u001b[0m \u001b[0;36m1\u001b[0m\u001b[0;34m,\u001b[0m\u001b[0;34m\u001b[0m\n",
       "\u001b[0;34m\u001b[0m\u001b[0;34m)\u001b[0m \u001b[0;34m->\u001b[0m \u001b[0;32mNone\u001b[0m\u001b[0;34m\u001b[0m\u001b[0;34m\u001b[0m\u001b[0m\n",
       "\u001b[0;31mDocstring:\u001b[0m     \n",
       "Class for performing homology modelling using the automodel class from\n",
       "modeller with a default parameter set.\n",
       "\n",
       "Parameters\n",
       "----------\n",
       "alignment : Alignment\n",
       "    The alignment object that will be used for modelling\n",
       "target : str\n",
       "    The identifier of the protein to model\n",
       "templates : Iterable\n",
       "    The iterable containing the identifier(s) of the template(s) used\n",
       "    for the modelling\n",
       "tag : str\n",
       "    The identifier associated with a specific execution of the routine\n",
       "n_threads : int\n",
       "    Number of threads used in model generation (default 1)\n",
       "n_models : int\n",
       "    Number of models generated (default 1)\n",
       "\n",
       "Attributes\n",
       "----------\n",
       "alignment : Alignment\n",
       "    The alignment object that will be used for modelling\n",
       "target : str\n",
       "    The identifier of the protein to model\n",
       "templates : Iterable\n",
       "    The iterable containing the identifier(s) of the template(s) used for\n",
       "    the modelling\n",
       "tag : str\n",
       "    The identifier associated with a specific execution of the routine\n",
       "n_threads : int\n",
       "    Number of threads used for model generation\n",
       "n_models : int\n",
       "    Number of models generated\n",
       "routine : str\n",
       "    The identifier associated with a specific routine\n",
       "models : list\n",
       "    List of models generated by the execution of this routine\n",
       "\n",
       "Raises\n",
       "------\n",
       "ImportError\n",
       "    Unable to import dependencies\n",
       "\n",
       "Notes\n",
       "-----\n",
       "The following modelling parameters can be set when initializing this\n",
       "Routine object:\n",
       "\n",
       "* n_models\n",
       "* n_threads\n",
       "\n",
       "The following modelling parameters are set for this class:\n",
       "\n",
       "+-----------------------+---------------------------------------+\n",
       "| modelling             | value                                 |\n",
       "| parameter             |                                       |\n",
       "+=======================+=======================================+\n",
       "| model_class           | modeller.automodel.automodel          |\n",
       "+-----------------------+---------------------------------------+\n",
       "| library_schedule      | modeller.automodel.autosched.normal   |\n",
       "+-----------------------+---------------------------------------+\n",
       "| md_level              | modeller.automodel.refine.very_fast   |\n",
       "+-----------------------+---------------------------------------+\n",
       "| max_var_iterations    | 200                                   |\n",
       "+-----------------------+---------------------------------------+\n",
       "| repeat_optmization    | 1                                     |\n",
       "+-----------------------+---------------------------------------+\n",
       "\u001b[0;31mFile:\u001b[0m           /usr/local/src/homelette/homelette/routines.py\n",
       "\u001b[0;31mType:\u001b[0m           type\n",
       "\u001b[0;31mSubclasses:\u001b[0m     \n"
      ]
     },
     "metadata": {},
     "output_type": "display_data"
    }
   ],
   "source": [
    "?hm.routines.Routine_automodel_default"
   ]
  },
  {
   "cell_type": "markdown",
   "id": "3739c33a-1221-4e31-bb7e-3244c9823f62",
   "metadata": {},
   "source": [
    "The following arguments are required for all pre-defined routines:\n",
    "\n",
    "- `alignment`: The alignment object used for modelling. \n",
    "- `target`: The identifier of the target sequence in the alignment object\n",
    "- `templates`: An iterable containing the identifier(s) of the templates for this modelling routine. `homelette` expects that templates are uniquely identified by their identifier in the alignment and in the template PDB file(s). Routines based on `modeller` work with one or multiple templates, whereas `Routine_promod3` only accepts a single template per run.\n",
    "- `tag`: Each executed routine is given a tag which will be used to name the generated models.\n",
    "\n",
    "In addition, pre-defined routines expect the template PDBs to be present in the current working directory.\n",
    "\n",
    "The routine `Routine_automodel_default` has two optional arguments:\n",
    "\n",
    "- `n_models`: the number of models that should be produced on this run, as routines based on `modeller` are able to produce an arbitary number of models.\n",
    "- `n_threads`: enable mulit-threading for the execution of this routine. For more information on parallelization in `homelette`, please check out **Tutorial 5**.\n",
    "\n",
    "---\n",
    "\n",
    "While it is generally recommended to execute routines using `Task` objects (see next section), it is also possible to execute them directly. For doing this, since the template file has to be in the curent working directory, we quickly change working directory to a prepared directory where we can execute the routine (this code assumes that your working directory is `homelette/examples`."
   ]
  },
  {
   "cell_type": "code",
   "execution_count": 5,
   "id": "c6e0778e-ddb8-4a15-acd1-6110b548d67b",
   "metadata": {},
   "outputs": [
    {
     "name": "stdout",
     "output_type": "stream",
     "text": [
      "Files before modelling:\n",
      "3NY5.pdb aln_1.fasta_aln 4G0N.pdb aln_2.fasta_aln\n",
      "\n",
      "\n",
      "Files after modelling:\n",
      "model_1.pdb 3NY5.pdb aln_1.fasta_aln 4G0N.pdb aln_2.fasta_aln\n",
      "\n"
     ]
    }
   ],
   "source": [
    "# change directory \n",
    "os.chdir('data/single')\n",
    "# print content of directory to screen\n",
    "print('Files before modelling:\\n' + ' '.join(os.listdir()) + '\\n\\n')\n",
    "\n",
    "# perform modelling\n",
    "routine = hm.routines.Routine_automodel_default(\n",
    "    alignment=aln,\n",
    "    target='ARAF',\n",
    "    templates=['3NY5'],\n",
    "    tag='model')\n",
    "routine.generate_models()\n",
    "\n",
    "print('Files after modelling:\\n' + ' '.join(os.listdir()) + '\\n')\n",
    "\n",
    "# remove model\n",
    "os.remove('model_1.pdb')\n",
    "\n",
    "# change back to tutorial directory\n",
    "os.chdir('../..')"
   ]
  },
  {
   "cell_type": "markdown",
   "id": "94ef6ac2-162a-4814-b164-80eeb73d3bf5",
   "metadata": {},
   "source": [
    "## Model Generation using `Task` and `routines`\n",
    "\n",
    "`homelette` has `Task` objects that allow for easier use of Routines and Evaluations (see also **Tutorial 3**). `Task` objects help to direct and organize modelling pipelines. It is strongly recommended to use `Task` objects to execute routines and evaluations.\n",
    "\n",
    "For more information on `Task` objects, please check out the [documentation](https://homelette.readthedocs.io/) or **Tutorial 1**. "
   ]
  },
  {
   "cell_type": "code",
   "execution_count": 6,
   "id": "80c7553b-1e01-4c43-9227-bacb93a103f2",
   "metadata": {},
   "outputs": [],
   "source": [
    "# set up task object\n",
    "t = hm.Task(\n",
    "    task_name = 'Tutorial2', \n",
    "    target = 'ARAF', \n",
    "    alignment = aln, \n",
    "    overwrite = True)"
   ]
  },
  {
   "cell_type": "markdown",
   "id": "41ee9268-770d-4fb6-b932-e057ea246fce",
   "metadata": {},
   "source": [
    "Using the `Task` object, we can now begin to generate our models with different routines using the `Task.execute_routine` method."
   ]
  },
  {
   "cell_type": "code",
   "execution_count": 7,
   "id": "8da5d803-1320-4a80-b83c-11ba9df2f0d6",
   "metadata": {},
   "outputs": [
    {
     "data": {
      "text/plain": [
       "\u001b[0;31mSignature:\u001b[0m\n",
       "\u001b[0mhm\u001b[0m\u001b[0;34m.\u001b[0m\u001b[0mTask\u001b[0m\u001b[0;34m.\u001b[0m\u001b[0mexecute_routine\u001b[0m\u001b[0;34m(\u001b[0m\u001b[0;34m\u001b[0m\n",
       "\u001b[0;34m\u001b[0m    \u001b[0mself\u001b[0m\u001b[0;34m,\u001b[0m\u001b[0;34m\u001b[0m\n",
       "\u001b[0;34m\u001b[0m    \u001b[0mtag\u001b[0m\u001b[0;34m:\u001b[0m \u001b[0mstr\u001b[0m\u001b[0;34m,\u001b[0m\u001b[0;34m\u001b[0m\n",
       "\u001b[0;34m\u001b[0m    \u001b[0mroutine\u001b[0m\u001b[0;34m:\u001b[0m \u001b[0mType\u001b[0m\u001b[0;34m[\u001b[0m\u001b[0mForwardRef\u001b[0m\u001b[0;34m(\u001b[0m\u001b[0;34m'routines.Routine'\u001b[0m\u001b[0;34m)\u001b[0m\u001b[0;34m]\u001b[0m\u001b[0;34m,\u001b[0m\u001b[0;34m\u001b[0m\n",
       "\u001b[0;34m\u001b[0m    \u001b[0mtemplates\u001b[0m\u001b[0;34m:\u001b[0m \u001b[0;34m[\u001b[0m\u001b[0;34m<\u001b[0m\u001b[0;32mclass\u001b[0m \u001b[0;34m'tuple'\u001b[0m\u001b[0;34m>\u001b[0m\u001b[0;34m,\u001b[0m \u001b[0;34m<\u001b[0m\u001b[0;32mclass\u001b[0m \u001b[0;34m'list'\u001b[0m\u001b[0;34m>\u001b[0m\u001b[0;34m]\u001b[0m\u001b[0;34m,\u001b[0m\u001b[0;34m\u001b[0m\n",
       "\u001b[0;34m\u001b[0m    \u001b[0mtemplate_location\u001b[0m\u001b[0;34m:\u001b[0m \u001b[0mstr\u001b[0m \u001b[0;34m=\u001b[0m \u001b[0;34m'.'\u001b[0m\u001b[0;34m,\u001b[0m\u001b[0;34m\u001b[0m\n",
       "\u001b[0;34m\u001b[0m    \u001b[0;34m**\u001b[0m\u001b[0mkwargs\u001b[0m\u001b[0;34m,\u001b[0m\u001b[0;34m\u001b[0m\n",
       "\u001b[0;34m\u001b[0m\u001b[0;34m)\u001b[0m \u001b[0;34m->\u001b[0m \u001b[0;32mNone\u001b[0m\u001b[0;34m\u001b[0m\u001b[0;34m\u001b[0m\u001b[0m\n",
       "\u001b[0;31mDocstring:\u001b[0m\n",
       "Generates homology models using a specified modelling routine\n",
       "\n",
       "Parameters\n",
       "----------\n",
       "tag : str\n",
       "    The identifier associated with this combination of routine and\n",
       "    template(s). Has to be unique between all routines executed by the\n",
       "    same task object\n",
       "routine : Routine\n",
       "    The routine object used to generate the models\n",
       "templates : list\n",
       "    The iterable containing the identifier(s) of the template(s) used\n",
       "    for model generation\n",
       "template_location : str, optional\n",
       "    The location of the template PDB files. They should be named\n",
       "    according to their identifiers in the alignment (i.e. for a\n",
       "    sequence named \"1WXN\" to be used as a template, it is expected that\n",
       "    there will be a PDB file named \"1WXN.pdb\" in the specified template\n",
       "    location (default is current working directory)\n",
       "**kwargs :\n",
       "    Named parameters passed directly on to the Routine object when the\n",
       "    modelling is performed. Please check the documentation in order to\n",
       "    make sure that the parameters passed on are available with the\n",
       "    Routine object you intend to use\n",
       "\n",
       "Returns\n",
       "-------\n",
       "None\n",
       "\u001b[0;31mFile:\u001b[0m      /usr/local/src/homelette/homelette/organization.py\n",
       "\u001b[0;31mType:\u001b[0m      function\n"
      ]
     },
     "metadata": {},
     "output_type": "display_data"
    }
   ],
   "source": [
    "?hm.Task.execute_routine"
   ]
  },
  {
   "cell_type": "markdown",
   "id": "17dd89fb-4e76-466f-8b66-1ed3387d6d66",
   "metadata": {},
   "source": [
    "As we can see, `Task.execute_routine` expects a number of arguments from the user:\n",
    "\n",
    "- `tag`: Each executed routine is given a tag which will be used to name the generated models. This is useful for differentiating between different routines executed by the same `Task`, for example if different templates are used.\n",
    "- `routine`: Here the user can set which routine will be used for generating the homology model(s), arguably the most important setting.\n",
    "- `templates`: An iterable containing the identifier(s) of the templates for this modelling routine. `homelette` expects that templates are uniquely identified by their identifier(s) in the alignment and in the template location.\n",
    "- `template_location`: The folder where the PDB file(s) used as template(s) are found.\n",
    "\n",
    "We are generating some models with the pre-defined routines of `homelette`:"
   ]
  },
  {
   "cell_type": "code",
   "execution_count": 8,
   "id": "3d9f46ae-40a7-43f0-9a4f-5f3425f64c2a",
   "metadata": {},
   "outputs": [],
   "source": [
    "# model generation with modeller\n",
    "t.execute_routine(\n",
    "    tag = 'example_modeller',\n",
    "    routine = hm.routines.Routine_automodel_default,\n",
    "    templates = ['3NY5'],\n",
    "    template_location = './data/single')\n",
    "\n",
    "# model generation with altmod\n",
    "t.execute_routine(\n",
    "    tag = 'example_altmod',\n",
    "    routine = hm.routines.Routine_altmod_default,\n",
    "    templates = ['3NY5'],\n",
    "    template_location = './data/single')\n",
    "\n",
    "# model generation with promod3\n",
    "# t.execute_routine(\n",
    "#     tag = 'example_promod3',\n",
    "#     routine = hm.routines.Routine_promod3,\n",
    "#     templates = ['3NY5'],\n",
    "#     template_location = './data/')"
   ]
  },
  {
   "cell_type": "markdown",
   "id": "4ce8e1b8-fe24-4735-89cd-fdf5de473aee",
   "metadata": {},
   "source": [
    "As mentioned before, some modelling routines have optional arguments, such as `n_models` for `Routine_autmodel_default`. We can pass these optional arguments to `Task.execute_routine` which passes them on the routine selected:"
   ]
  },
  {
   "cell_type": "code",
   "execution_count": 9,
   "id": "b7bc274f-2634-453e-b7ef-31d37f974e57",
   "metadata": {},
   "outputs": [],
   "source": [
    "# multiple model generation with altmod\n",
    "t.execute_routine(\n",
    "    tag = 'example_modeller_more_models',\n",
    "    routine = hm.routines.Routine_automodel_default,\n",
    "    templates = ['3NY5'],\n",
    "    template_location = './data/single',\n",
    "    n_models = 10)"
   ]
  },
  {
   "cell_type": "markdown",
   "id": "4c92533c-abbf-49d2-8c15-f0866f75d24a",
   "metadata": {},
   "source": [
    "Models generated using `Task` objects are stored as `Model` objects in the `Task`:"
   ]
  },
  {
   "cell_type": "code",
   "execution_count": 10,
   "id": "1ed5ef22-b892-4b01-9575-3ab6e19a4d4c",
   "metadata": {
    "tags": []
   },
   "outputs": [
    {
     "data": {
      "text/plain": [
       "[<homelette.organization.Model at 0x7fb85a7bf910>,\n",
       " <homelette.organization.Model at 0x7fb82956ff10>,\n",
       " <homelette.organization.Model at 0x7fb829540fa0>,\n",
       " <homelette.organization.Model at 0x7fb82956fb20>,\n",
       " <homelette.organization.Model at 0x7fb82956f700>,\n",
       " <homelette.organization.Model at 0x7fb82956f610>,\n",
       " <homelette.organization.Model at 0x7fb8294bd580>,\n",
       " <homelette.organization.Model at 0x7fb8294bd520>,\n",
       " <homelette.organization.Model at 0x7fb8294bd040>,\n",
       " <homelette.organization.Model at 0x7fb8294bd4c0>,\n",
       " <homelette.organization.Model at 0x7fb8294bd490>,\n",
       " <homelette.organization.Model at 0x7fb8294bd640>]"
      ]
     },
     "execution_count": 10,
     "metadata": {},
     "output_type": "execute_result"
    }
   ],
   "source": [
    "t.models"
   ]
  },
  {
   "cell_type": "markdown",
   "id": "d5028dae-3c2e-41ce-91a5-85ad547873f1",
   "metadata": {},
   "source": [
    "In conclusion, we have learned how to use a single `Task` object to generate models with different modelling routines. We have also learned how to pass optional arguments on to the executed routines.\n",
    "\n",
    "In this example, the target, the alignment and the templates were kept identical. Varying the templates would be straight forward, under the condition that other templates are included in the alignment. For varying alignments and targets, new `Task` objects would need to be created. This is a design choice that is meant to encourage users to try out different routines or templates/template combinations. It is recommended when using different routines or multiple templates to indicate this using the `tag` argument of `Task.execute_routine` (i.e. `tag='automodel_3NY5')`. Similarly, using a single `Task` object for multiple targets or alignments is discouraged and we recommend to utilize multiple `Task` objects for these modelling approaches."
   ]
  },
  {
   "cell_type": "markdown",
   "id": "064da426-cf72-409f-89c5-a6907679a990",
   "metadata": {},
   "source": [
    "## Further Reading"
   ]
  },
  {
   "cell_type": "markdown",
   "id": "a2dc36bc-1161-4795-a065-41f19c3e6648",
   "metadata": {},
   "source": [
    "You are now familiar with model generation in `homelette`.\n",
    "\n",
    "Please note that there are other tutorials, which will teach you more about how to use `homelette`:\n",
    "\n",
    "- **Tutorial 1**: Learn about the basics of `homelette`.\n",
    "- **Tutorial 3**: Learn about the evaluation metrics available with `homelette`.\n",
    "- **Tutorial 4**: Learn about extending `homelette`'s functionality by defining your own modelling routines and evaluation metrics.\n",
    "- **Tutorial 5**: Learn about how to use parallelization in order to generate and evaluate models more efficiently.\n",
    "- **Tutorial 6**: Learn about modelling protein complexes.\n",
    "- **Tutorial 7**: Learn about assembling custom pipelines."
   ]
  },
  {
   "cell_type": "markdown",
   "id": "b8872429-03c1-4b37-9a8b-df9c043fe887",
   "metadata": {},
   "source": [
    "## References\n",
    "\n",
    "[1] Šali, A., & Blundell, T. L. (1993). Comparative protein modelling by satisfaction of spatial restraints. Journal of Molecular Biology, 234(3), 779–815. https://doi.org/10.1006/jmbi.1993.1626\n",
    "\n",
    "[2] Webb, B., & Sali, A. (2016). Comparative Protein Structure Modeling Using MODELLER. Current Protocols in Bioinformatics, 54(1), 5.6.1-5.6.37. https://doi.org/10.1002/cpbi.3\n",
    "\n",
    "[3] Janson, G., Grottesi, A., Pietrosanto, M., Ausiello, G., Guarguaglini, G., & Paiardini, A. (2019). Revisiting the “satisfaction of spatial restraints” approach of MODELLER for protein homology modeling. PLoS Computational Biology, 15(12), e1007219. https://doi.org/10.1371/journal.pcbi.1007219\n",
    "\n",
    "[4] Biasini, M., Schmidt, T., Bienert, S., Mariani, V., Studer, G., Haas, J., Johner, N., Schenk, A. D., Philippsen, A., & Schwede, T. (2013). OpenStructure: An integrated software framework for computational structural biology. Acta Crystallographica Section D: Biological Crystallography, 69(5), 701–709. https://doi.org/10.1107/S0907444913007051\n",
    "\n",
    "[5] Studer, G., Tauriello, G., Bienert, S., Biasini, M., Johner, N., & Schwede, T. (2021). ProMod3—A versatile homology modelling toolbox. PLOS Computational Biology, 17(1), e1008667. https://doi.org/10.1371/JOURNAL.PCBI.1008667"
   ]
  },
  {
   "cell_type": "markdown",
   "id": "f443a760-dc53-4211-93dd-3d7f91cb8fb4",
   "metadata": {},
   "source": [
    "## Session Info"
   ]
  },
  {
   "cell_type": "code",
   "execution_count": 11,
   "id": "20aa6164-a596-484c-a509-1e60aee8270f",
   "metadata": {},
   "outputs": [
    {
     "name": "stdout",
     "output_type": "stream",
     "text": [
      "-----\n",
      "homelette           1.0\n",
      "session_info        1.0.0\n",
      "-----\n",
      "PIL                         7.0.0\n",
      "altmod                      NA\n",
      "anyio                       NA\n",
      "attr                        19.3.0\n",
      "babel                       2.9.1\n",
      "backcall                    0.2.0\n",
      "certifi                     2021.05.30\n",
      "chardet                     3.0.4\n",
      "charset_normalizer          2.0.4\n",
      "cycler                      0.10.0\n",
      "cython_runtime              NA\n",
      "dateutil                    2.7.3\n",
      "debugpy                     1.4.1\n",
      "decorator                   4.4.2\n",
      "entrypoints                 0.3\n",
      "idna                        3.2\n",
      "ipykernel                   6.3.1\n",
      "ipython_genutils            0.2.0\n",
      "jedi                        0.18.0\n",
      "jinja2                      3.0.1\n",
      "json5                       NA\n",
      "jsonschema                  3.2.0\n",
      "jupyter_server              1.10.2\n",
      "jupyterlab_server           2.8.0\n",
      "kiwisolver                  1.0.1\n",
      "markupsafe                  2.0.1\n",
      "matplotlib                  3.1.2\n",
      "modeller                    10.1\n",
      "mpl_toolkits                NA\n",
      "nbclassic                   NA\n",
      "nbformat                    5.1.3\n",
      "numpy                       1.17.4\n",
      "ost                         2.2.0\n",
      "packaging                   20.3\n",
      "pandas                      0.25.3\n",
      "parso                       0.8.2\n",
      "pexpect                     4.8.0\n",
      "pickleshare                 0.7.5\n",
      "pkg_resources               NA\n",
      "prometheus_client           NA\n",
      "promod3                     3.2.0\n",
      "prompt_toolkit              3.0.20\n",
      "ptyprocess                  0.7.0\n",
      "pvectorc                    NA\n",
      "pydev_ipython               NA\n",
      "pydevconsole                NA\n",
      "pydevd                      2.4.1\n",
      "pydevd_concurrency_analyser NA\n",
      "pydevd_file_utils           NA\n",
      "pydevd_plugins              NA\n",
      "pydevd_tracing              NA\n",
      "pygments                    2.10.0\n",
      "pyparsing                   2.4.6\n",
      "pyrsistent                  NA\n",
      "pytz                        2019.3\n",
      "qmean                       NA\n",
      "requests                    2.26.0\n",
      "send2trash                  NA\n",
      "sitecustomize               NA\n",
      "six                         1.14.0\n",
      "sniffio                     1.2.0\n",
      "storemagic                  NA\n",
      "swig_runtime_data4          NA\n",
      "terminado                   0.12.1\n",
      "tornado                     6.1\n",
      "traitlets                   5.1.0\n",
      "urllib3                     1.26.6\n",
      "wcwidth                     NA\n",
      "websocket                   1.2.1\n",
      "zmq                         22.2.1\n",
      "-----\n",
      "IPython             7.27.0\n",
      "jupyter_client      7.0.2\n",
      "jupyter_core        4.7.1\n",
      "jupyterlab          3.1.10\n",
      "notebook            6.4.3\n",
      "-----\n",
      "Python 3.8.10 (default, Jun  2 2021, 10:49:15) [GCC 9.4.0]\n",
      "Linux-4.15.0-147-generic-x86_64-with-glibc2.29\n",
      "-----\n",
      "Session information updated at 2021-09-07 15:42\n"
     ]
    }
   ],
   "source": [
    "# session info\n",
    "import session_info\n",
    "session_info.show(html = False, dependencies = True)"
   ]
  }
 ],
 "metadata": {
  "kernelspec": {
   "display_name": "Python 3 (ipykernel)",
   "language": "python",
   "name": "python3"
  },
  "language_info": {
   "codemirror_mode": {
    "name": "ipython",
    "version": 3
   },
   "file_extension": ".py",
   "mimetype": "text/x-python",
   "name": "python",
   "nbconvert_exporter": "python",
   "pygments_lexer": "ipython3",
   "version": "3.8.10"
  }
 },
 "nbformat": 4,
 "nbformat_minor": 5
}
