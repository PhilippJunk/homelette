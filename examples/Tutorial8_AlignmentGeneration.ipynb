{
 "cells": [
  {
   "cell_type": "markdown",
   "id": "ad576ae6-c248-42db-882c-37aff4be1102",
   "metadata": {},
   "source": [
    "# Tutorial 8: Automatic Alignment Generation"
   ]
  },
  {
   "cell_type": "code",
   "execution_count": 1,
   "id": "4ccf14d4-9acd-44c7-abf8-6463ca72daa3",
   "metadata": {},
   "outputs": [],
   "source": [
    "import homelette as hm"
   ]
  },
  {
   "cell_type": "markdown",
   "id": "6683c961-458e-4da8-ab3b-814057b8521d",
   "metadata": {},
   "source": [
    "## Introduction"
   ]
  },
  {
   "cell_type": "markdown",
   "id": "4cc1897c-d4a2-41c3-bbe4-cd3b478f941e",
   "metadata": {},
   "source": [
    "Welcome to the eighth tutorial for `homelette`, in which we will explore `homelette`'s tool for automated alignment generation. \n",
    "\n",
    "The alignment is a central step in homology modelling, and the quality of the alignment used for modelling has a lot of influence on the final models. In general, the challenge of creating solid sequence alignments is mainly dependent how closely the target and template are. If they share a high sequence identity, the alignments are easy to construct and the modelling process will most likely be successful. "
   ]
  },
  {
   "cell_type": "markdown",
   "id": "6b94190f-3549-4152-9144-e162dd2a5c55",
   "metadata": {},
   "source": [
    "<div class=\"alert alert-info\">\n",
    "\n",
    "**Note**\n",
    "\n",
    "As a rule of thumb, it is said that everything above 50-60% sequence identity is well approachable, while everything below 30% sequence identity is very challenging to model. \n",
    "    \n",
    "</div>"
   ]
  },
  {
   "cell_type": "markdown",
   "id": "2f198186-06e4-4f53-9a21-40597b9ada73",
   "metadata": {},
   "source": [
    "`homelette` has methods that can automatically generate an alignment given a query sequence. However, these methods hide some of the complexity of generating good alignments. Use them at your own discretion, especially for target sequences with low sequence identity to any template."
   ]
  },
  {
   "cell_type": "markdown",
   "id": "cf411799-f685-41e5-ad28-1a67b6929a3c",
   "metadata": {},
   "source": [
    "<div class=\"alert alert-info\">\n",
    "\n",
    "**Note**\n",
    "\n",
    "Be careful with automatically generated alignments if your protein of interest has no closely related templates\n",
    "    \n",
    "</div>"
   ]
  },
  {
   "cell_type": "markdown",
   "id": "c29e5a4d-569e-4765-b94a-a2574090bdb2",
   "metadata": {},
   "source": [
    "After these words of caution, let's look at the implemented methods: \n",
    "\n",
    "- `alignment.AlignmentGenerator_pdb`: Query the PDB and local alignment with Clustal Omega\n",
    "- `alignment.AlignmentGenerator_hhblits`: Local database search against PDB70 database.\n",
    "- `alignment.AlignmentGenerator_from_aln`: For if you already have an alignment ready, but want to make use of `homelette`'s processing of templates and alignments."
   ]
  },
  {
   "cell_type": "markdown",
   "id": "76a1561e-c51f-4d1a-80f0-ae811f3df000",
   "metadata": {},
   "source": [
    "## Method 1: Querying RCSB and Realignment of template sequences with Clusta Omega\n",
    "\n"
   ]
  },
  {
   "cell_type": "markdown",
   "id": "565e459a-9723-4ed4-aef1-f50ca13579ad",
   "metadata": {},
   "source": [
    "This class performs a three step process:\n",
    "\n",
    "- Template Identification: Query the RCSB using a sequence (interally, MMseq2 is used by RCSB) [1, 2] (`get_suggestion`)\n",
    "- Then the sequences of identified templates are aligned locally using Clustal Omega [3, 4]. (`get_suggesion`)\n",
    "- Finally, the template structures are downloaded and processed together with the alignment (`get_pdbs`)\n",
    "\n",
    "Afterwards, the templates schould be ready for performing homology modelling.\n",
    "\n",
    "For a practical demonstration, let's find some templates for ARAF:"
   ]
  },
  {
   "cell_type": "code",
   "execution_count": 2,
   "id": "8df06bed-8f4f-4a48-92eb-4edc8c7e0f68",
   "metadata": {},
   "outputs": [],
   "source": [
    "gen = hm.alignment.AlignmentGenerator_pdb.from_fasta('data/alignments/ARAF.fa')\n",
    "# gen = hm.alignment.AlignmentGenerator_pdb(\n",
    "#     sequence = 'GTVKVYLPNKQRTVVTVRDGMSVYDSLDKALKVRGLNQDCCVVYRLIKGRKTVTAWDTAIAPLDGEELIVEVL',\n",
    "#     target = 'ARAF')"
   ]
  },
  {
   "cell_type": "markdown",
   "id": "85778a38-151a-4f6c-a92c-13a7ff6bd45f",
   "metadata": {},
   "source": [
    "There are two ways how `AlignmentGenerator` can be initialized: either with a sequence, or from a fasta file. Both ways are shown above.\n",
    "\n",
    "In the next step we use this sequence to generate an initial alignment:"
   ]
  },
  {
   "cell_type": "code",
   "execution_count": 3,
   "id": "9f614258-9cf2-4579-af23-24fa708bca69",
   "metadata": {},
   "outputs": [
    {
     "name": "stdout",
     "output_type": "stream",
     "text": [
      "Querying PDB...\n",
      "Query successful, 16 found!\n",
      "\n",
      "Retrieving sequences...\n",
      "Sequences succefully retrieved!\n",
      "\n",
      "Generating alignment...\n",
      "Alignment generated!\n",
      "\n"
     ]
    }
   ],
   "source": [
    "gen.get_suggestion()"
   ]
  },
  {
   "cell_type": "markdown",
   "id": "fc93772f-787f-4b1b-beaa-d3d936f1f1de",
   "metadata": {},
   "source": [
    "As we can see from the output, we are querying the PDB and extracting potential templates. Then, an alignment is generated.\n",
    "\n",
    "We can have a first look at the suggested templates as such:"
   ]
  },
  {
   "cell_type": "code",
   "execution_count": 4,
   "id": "197e5aed-0b7a-4742-9683-c5220a414da5",
   "metadata": {},
   "outputs": [
    {
     "data": {
      "text/html": [
       "<div>\n",
       "<style scoped>\n",
       "    .dataframe tbody tr th:only-of-type {\n",
       "        vertical-align: middle;\n",
       "    }\n",
       "\n",
       "    .dataframe tbody tr th {\n",
       "        vertical-align: top;\n",
       "    }\n",
       "\n",
       "    .dataframe thead th {\n",
       "        text-align: right;\n",
       "    }\n",
       "</style>\n",
       "<table border=\"1\" class=\"dataframe\">\n",
       "  <thead>\n",
       "    <tr style=\"text-align: right;\">\n",
       "      <th></th>\n",
       "      <th>template</th>\n",
       "      <th>coverage</th>\n",
       "      <th>identity</th>\n",
       "    </tr>\n",
       "  </thead>\n",
       "  <tbody>\n",
       "    <tr>\n",
       "      <th>0</th>\n",
       "      <td>1C1Y_2</td>\n",
       "      <td>100.0</td>\n",
       "      <td>60.27</td>\n",
       "    </tr>\n",
       "    <tr>\n",
       "      <th>1</th>\n",
       "      <td>1GUA_2</td>\n",
       "      <td>100.0</td>\n",
       "      <td>60.27</td>\n",
       "    </tr>\n",
       "    <tr>\n",
       "      <th>2</th>\n",
       "      <td>4G0N_2</td>\n",
       "      <td>100.0</td>\n",
       "      <td>60.27</td>\n",
       "    </tr>\n",
       "    <tr>\n",
       "      <th>3</th>\n",
       "      <td>4G3X_2</td>\n",
       "      <td>100.0</td>\n",
       "      <td>60.27</td>\n",
       "    </tr>\n",
       "    <tr>\n",
       "      <th>4</th>\n",
       "      <td>6VJJ_2</td>\n",
       "      <td>100.0</td>\n",
       "      <td>60.27</td>\n",
       "    </tr>\n",
       "    <tr>\n",
       "      <th>5</th>\n",
       "      <td>6XGU_2</td>\n",
       "      <td>100.0</td>\n",
       "      <td>60.27</td>\n",
       "    </tr>\n",
       "    <tr>\n",
       "      <th>6</th>\n",
       "      <td>6XGV_2</td>\n",
       "      <td>100.0</td>\n",
       "      <td>60.27</td>\n",
       "    </tr>\n",
       "    <tr>\n",
       "      <th>7</th>\n",
       "      <td>6XHA_2</td>\n",
       "      <td>100.0</td>\n",
       "      <td>60.27</td>\n",
       "    </tr>\n",
       "    <tr>\n",
       "      <th>8</th>\n",
       "      <td>6XHB_2</td>\n",
       "      <td>100.0</td>\n",
       "      <td>60.27</td>\n",
       "    </tr>\n",
       "    <tr>\n",
       "      <th>9</th>\n",
       "      <td>6XI7_2</td>\n",
       "      <td>100.0</td>\n",
       "      <td>60.27</td>\n",
       "    </tr>\n",
       "    <tr>\n",
       "      <th>10</th>\n",
       "      <td>7JHP_2</td>\n",
       "      <td>100.0</td>\n",
       "      <td>60.27</td>\n",
       "    </tr>\n",
       "    <tr>\n",
       "      <th>11</th>\n",
       "      <td>3KUC_2</td>\n",
       "      <td>100.0</td>\n",
       "      <td>58.90</td>\n",
       "    </tr>\n",
       "    <tr>\n",
       "      <th>12</th>\n",
       "      <td>3KUD_2</td>\n",
       "      <td>100.0</td>\n",
       "      <td>58.90</td>\n",
       "    </tr>\n",
       "    <tr>\n",
       "      <th>13</th>\n",
       "      <td>3NY5_1</td>\n",
       "      <td>100.0</td>\n",
       "      <td>58.90</td>\n",
       "    </tr>\n",
       "    <tr>\n",
       "      <th>14</th>\n",
       "      <td>6NTD_2</td>\n",
       "      <td>100.0</td>\n",
       "      <td>53.42</td>\n",
       "    </tr>\n",
       "    <tr>\n",
       "      <th>15</th>\n",
       "      <td>6NTC_2</td>\n",
       "      <td>100.0</td>\n",
       "      <td>52.05</td>\n",
       "    </tr>\n",
       "  </tbody>\n",
       "</table>\n",
       "</div>"
      ],
      "text/plain": [
       "   template  coverage  identity\n",
       "0    1C1Y_2     100.0     60.27\n",
       "1    1GUA_2     100.0     60.27\n",
       "2    4G0N_2     100.0     60.27\n",
       "3    4G3X_2     100.0     60.27\n",
       "4    6VJJ_2     100.0     60.27\n",
       "5    6XGU_2     100.0     60.27\n",
       "6    6XGV_2     100.0     60.27\n",
       "7    6XHA_2     100.0     60.27\n",
       "8    6XHB_2     100.0     60.27\n",
       "9    6XI7_2     100.0     60.27\n",
       "10   7JHP_2     100.0     60.27\n",
       "11   3KUC_2     100.0     58.90\n",
       "12   3KUD_2     100.0     58.90\n",
       "13   3NY5_1     100.0     58.90\n",
       "14   6NTD_2     100.0     53.42\n",
       "15   6NTC_2     100.0     52.05"
      ]
     },
     "execution_count": 4,
     "metadata": {},
     "output_type": "execute_result"
    }
   ],
   "source": [
    "gen.show_suggestion()"
   ]
  },
  {
   "cell_type": "code",
   "execution_count": 5,
   "id": "bb545992-70ea-4fc0-aa89-bf9e3399a482",
   "metadata": {},
   "outputs": [
    {
     "name": "stdout",
     "output_type": "stream",
     "text": [
      "ARAF        -------------GTVKVYLPNKQRTVVTVRDGMSVYDSLDKALKVRGLNQDCCVVYRLI---KGRKTVT\n",
      "1C1Y_2      ------------SNTIRVFLPNKQRTVVNVRNGMSLHDCLMKALKVRGLQPECCAVFRLLHEHKGKKARL\n",
      "1GUA_2      --------PSKTSNTIRVFLPNKQRTVVNVRNGMSLHDCLMKALKVRGLQPECCAVFRLLHEHKGKKARL\n",
      "3KUC_2      --------PSKTSNTIRVFLPNKQRTVVRVRNGMSLHDCLMKKLKVRGLQPECCAVFRLLHEHKGKKARL\n",
      "3KUD_2      --------PSKTSNTIRVFLPNKQRTVVNVRNGMSLHDCLMKKLKVRGLQPECCAVFRLLHEHKGKKARL\n",
      "3NY5_1      MGHHHHHHSHMQKPIVRVFLPNKQRTVVPARCGVTVRDSLKKALMMRGLIPECCAVYRIQ---DGEKKPI\n",
      "4G0N_2      -----------TSNTIRVFLPNKQRTVVNVRNGMSLHDCLMKALKVRGLQPECCAVFRLLHEHKGKKARL\n",
      "4G3X_2      ------------SNTIRVFLPNKQRTVVNVRNGMSLHDCLMKALKVRGLQPECCAVFRLLHEHKGKKARL\n",
      "6NTC_2      --------GAMDSNTIRVLLPNQEWTVVKVRNGMSLHDSLMKALKRHGLQPESSAVFRLLHEHKGKKARL\n",
      "6NTD_2      --------GAMDSNTIRVLLPNHERTVVKVRNGMSLHDSLMKALKRHGLQPESSAVFRLLHEHKGKKARL\n",
      "6VJJ_2      ---------SKTSNTIRVFLPNKQRTVVNVRNGMSLHDCLMKALKVRGLQPECCAVFRLLHEHKGKKARL\n",
      "6XGU_2      ---------SKTSNTIRVFLPNKQRTVVNVRNGMSLHDCLMKALKVRGLQPECCAVFRLLHEHKGKKARL\n",
      "6XGV_2      ---------SKTSNTIRVFLPNKQRTVVNVRNGMSLHDCLMKALKVRGLQPECCAVFRLLHEHKGKKARL\n",
      "6XHA_2      ---------SKTSNTIRVFLPNKQRTVVNVRNGMSLHDCLMKALKVRGLQPECCAVFRLLHEHKGKKARL\n",
      "6XHB_2      ---------SKTSNTIRVFLPNKQRTVVNVRNGMSLHDCLMKALKVRGLQPECCAVFRLLHEHKGKKARL\n",
      "6XI7_2      ---------SKTSNTIRVFLPNKQRTVVNVRNGMSLHDCLMKALKVRGLQPECCAVFRLLHEHKGKKARL\n",
      "7JHP_2      ------------SNTIRVFLPNKQRTVVNVRNGMSLHDCLMKALKVRGLQPECCAVFRLLHEHKGKKARL\n",
      "\n",
      "\n",
      "ARAF        AWDTAIAPLDGEELIVEVL---------------------------------------------------\n",
      "1C1Y_2      DWNTDAASLIGEELQVDFL---------------------------------------------------\n",
      "1GUA_2      DWNTDAASLIGEELQVDFL---------------------------------------------------\n",
      "3KUC_2      DWNTDAASLIGEELQVDFL---------------------------------------------------\n",
      "3KUD_2      DWNTDAASLIGEELQVDFL---------------------------------------------------\n",
      "3NY5_1      GWDTDISWLTGEELHVEVLENVPLTTHNF-----------------------------------------\n",
      "4G0N_2      DWNTDAASLIGEELQVDFL---------------------------------------------------\n",
      "4G3X_2      DWNTDAASLIGEELQVDFL---------------------------------------------------\n",
      "6NTC_2      DWNTDAASLIGEELQVDFL---------------------------------------------------\n",
      "6NTD_2      DWNTDAASLIGEELQVDFL---------------------------------------------------\n",
      "6VJJ_2      DWNTDAASLIGEELQVDFL---------------------------------------------------\n",
      "6XGU_2      DWNTDAASLIGEELQVDFLDHVPLTTHNFARKTFLKLAFCDICQKFLLNGFRCQTCGYKFHEHCSTKVPT\n",
      "6XGV_2      DWNTDAASLIGEELQVDFLDHVPLTTHNFARKTFLKLAFCDICQKFLLNGFRCQTCGYKFHEHCSTKVPT\n",
      "6XHA_2      DWNTDAASLIGEELQVDFLDHVPLTTHNFARKTFLKLAFCDICQKFLLNGFRCQTCGYKFHEHCSTKVPT\n",
      "6XHB_2      DWNTDAASLIGEELQVDFLDHVPLTTHNFARKTFLKLAFCDICQKFLLNGFRCQTCGYKFHEHCSTKVPT\n",
      "6XI7_2      DWNTDAASLIGEELQVDFLDHVPLTTHNFARKTFLKLAFCDICQKFLLNGFRCQTCGYKFHEHCSTKVPT\n",
      "7JHP_2      DWNTDAASLIGEELQVDFLDHVPLTTHNFARKTFLKLAFCDICQKFLLNGFRCQTCGYKFHEHCSTKVPT\n",
      "\n",
      "\n",
      "ARAF        ------\n",
      "1C1Y_2      ------\n",
      "1GUA_2      ------\n",
      "3KUC_2      ------\n",
      "3KUD_2      ------\n",
      "3NY5_1      ------\n",
      "4G0N_2      ------\n",
      "4G3X_2      ------\n",
      "6NTC_2      ------\n",
      "6NTD_2      ------\n",
      "6VJJ_2      ------\n",
      "6XGU_2      MCVDWS\n",
      "6XGV_2      MCVDWS\n",
      "6XHA_2      MCVDWS\n",
      "6XHB_2      MCVDWS\n",
      "6XI7_2      MCVDWS\n",
      "7JHP_2      MCVDW-\n",
      "\n",
      "\n"
     ]
    }
   ],
   "source": [
    "gen.alignment.print_clustal(70)"
   ]
  },
  {
   "cell_type": "markdown",
   "id": "432d6b9a-5caf-4339-bd8b-1fb7c57d4dad",
   "metadata": {},
   "source": [
    "After potentially filtering out some sequences, we can proceed with the next step: downloading the structures for our templates, comparing the sequences of the templates with the residues present in the template structure and make adjustments to both the structure and the alignment if necessary."
   ]
  },
  {
   "cell_type": "code",
   "execution_count": 6,
   "id": "4e6f37cb-1754-4d77-ba6f-9e92bc97675d",
   "metadata": {},
   "outputs": [
    {
     "name": "stdout",
     "output_type": "stream",
     "text": [
      "Guessing template naming format...\n",
      "Template naming format guessed: polymer_entity!\n",
      "\n",
      "Checking template dir...\n",
      "Template dir found!\n",
      "\n",
      "Processing templates:\n",
      "\n",
      "1C1Y downloading from PDB...\n",
      "1C1Y downloaded!\n",
      "1C1Y_B: Chain extracted!\n",
      "1C1Y_B: Alignment updated!\n",
      "1C1Y_B: PDB processed!\n",
      "1GUA downloading from PDB...\n",
      "1GUA downloaded!\n",
      "1GUA_B: Chain extracted!\n",
      "1GUA_B: Alignment updated!\n",
      "1GUA_B: PDB processed!\n",
      "3KUC downloading from PDB...\n",
      "3KUC downloaded!\n",
      "3KUC_B: Chain extracted!\n",
      "3KUC_B: Alignment updated!\n",
      "3KUC_B: PDB processed!\n",
      "3KUD downloading from PDB...\n",
      "3KUD downloaded!\n",
      "3KUD_B: Chain extracted!\n",
      "3KUD_B: Alignment updated!\n",
      "3KUD_B: PDB processed!\n",
      "3NY5 downloading from PDB...\n",
      "3NY5 downloaded!\n",
      "3NY5_A: Chain extracted!\n",
      "3NY5_A: Alignment updated!\n",
      "3NY5_A: PDB processed!\n",
      "3NY5_B: Chain extracted!\n",
      "3NY5_B: Alignment updated!\n",
      "3NY5_B: PDB processed!\n",
      "3NY5_C: Chain extracted!\n",
      "3NY5_C: Alignment updated!\n",
      "3NY5_C: PDB processed!\n",
      "3NY5_D: Chain extracted!\n",
      "3NY5_D: Alignment updated!\n",
      "3NY5_D: PDB processed!\n",
      "4G0N downloading from PDB...\n",
      "4G0N downloaded!\n",
      "4G0N_B: Chain extracted!\n",
      "4G0N_B: Alignment updated!\n",
      "4G0N_B: PDB processed!\n",
      "4G3X downloading from PDB...\n",
      "4G3X downloaded!\n",
      "4G3X_B: Chain extracted!\n",
      "4G3X_B: Alignment updated!\n",
      "4G3X_B: PDB processed!\n",
      "6NTC downloading from PDB...\n",
      "6NTC downloaded!\n",
      "6NTC_B: Chain extracted!\n",
      "6NTC_B: Alignment updated!\n",
      "6NTC_B: PDB processed!\n",
      "6NTD downloading from PDB...\n",
      "6NTD downloaded!\n",
      "6NTD_B: Chain extracted!\n",
      "6NTD_B: Alignment updated!\n",
      "6NTD_B: PDB processed!\n",
      "6VJJ downloading from PDB...\n",
      "6VJJ downloaded!\n",
      "6VJJ_B: Chain extracted!\n",
      "6VJJ_B: Alignment updated!\n",
      "6VJJ_B: PDB processed!\n",
      "6XGU downloading from PDB...\n",
      "6XGU downloaded!\n",
      "6XGU_B: Chain extracted!\n",
      "6XGU_B: Alignment updated!\n",
      "6XGU_B: PDB processed!\n",
      "6XGV downloading from PDB...\n",
      "6XGV downloaded!\n",
      "6XGV_B: Chain extracted!\n",
      "6XGV_B: Alignment updated!\n",
      "6XGV_B: PDB processed!\n",
      "6XHA downloading from PDB...\n",
      "6XHA downloaded!\n",
      "6XHA_B: Chain extracted!\n",
      "6XHA_B: Alignment updated!\n",
      "6XHA_B: PDB processed!\n",
      "6XHB downloading from PDB...\n",
      "6XHB downloaded!\n",
      "6XHB_B: Chain extracted!\n",
      "6XHB_B: Alignment updated!\n",
      "6XHB_B: PDB processed!\n",
      "6XI7 downloading from PDB...\n",
      "6XI7 downloaded!\n",
      "6XI7_B: Chain extracted!\n",
      "6XI7_B: Alignment updated!\n",
      "6XI7_B: PDB processed!\n",
      "7JHP downloading from PDB...\n",
      "7JHP downloaded!\n",
      "7JHP_C: Chain extracted!\n",
      "7JHP_C: Alignment updated!\n",
      "7JHP_C: PDB processed!\n",
      "\n",
      "Finishing... All templates successfully\n",
      "downloaded and processed!\n",
      "Templates can be found in\n",
      "\"/home/homelette/workdir/templates\".\n"
     ]
    }
   ],
   "source": [
    "gen.get_pdbs()"
   ]
  },
  {
   "cell_type": "markdown",
   "id": "f331508f-2ec1-4524-b4e0-f8ace0425fe0",
   "metadata": {},
   "source": [
    "`get_pdbs` will check all chains of a template and download those with the correct sequence."
   ]
  },
  {
   "cell_type": "code",
   "execution_count": 7,
   "id": "d02c3716-c5c4-458f-8dcc-c24caeb21add",
   "metadata": {},
   "outputs": [
    {
     "name": "stdout",
     "output_type": "stream",
     "text": [
      "ARAF        -------------GTVKVYLPNKQRTVVTVRDGMSVYDSLDKALKVRGLNQDCCVVYRLI---KGRKTVT\n",
      "1C1Y_B      ------------SNTIRVFLPNKQRTVVNVRNGMSLHDCLMKALKVRGLQPECCAVFRLLHEHKGKKARL\n",
      "1GUA_B      -------------NTIRVFLPNKQRTVVNVRNGMSLHDCLMKALKVRGLQPECCAVFRLLHEHKGKKARL\n",
      "3KUC_B      -------------NTIRVFLPNKQRTVVRVRNGMSLHDCLMKKLKVRGLQPECCAVFRLLHEHKGKKARL\n",
      "3KUD_B      -------------NTIRVFLPNKQRTVVNVRNGMSLHDCLMKKLKVRGLQPECCAVFRLLHEHKGKKARL\n",
      "3NY5_A      ---------H-QKPIVRVFLPNKQRTVVPARCGVTVRDSLKKAL--RGLIPECCAVYRIQ------KKPI\n",
      "3NY5_B      --------SH-QKPIVRVFLPNKQRTVVPARCGVTVRDSLKKAL--RGLIPECCAVYRIQ-----EKKPI\n",
      "3NY5_C      -----------QKPIVRVFLPNKQRTVVPARCGVTVRDSLKKAL--RGLIPECCAVYRIQ------KKPI\n",
      "3NY5_D      ---------H-QKPIVRVFLPNKQRTVVPARCGVTVRDSLKKAL--RGLIPECCAVYRI-------KKPI\n",
      "4G0N_B      -----------TSNTIRVFLPNKQRTVVNVRNGMSLHDCLMKALKVRGLQPECCAVFRLLHEHKGKKARL\n",
      "4G3X_B      ------------SNTIRVFLPNKQRTVVNVRNGMSLHDCLMKALKVRGLQPECCAVFRLLHEHKGKKARL\n",
      "6NTC_B      -------------NTIRVLLPNQEWTVVKV---MSLHDSLMKALKRHGLQPESSAVF---------KARL\n",
      "6NTD_B      ------------SNTIRVLLPNHERTVVKVRNGMSLHDSLMKALKRHGLQPESSAVF-----------RL\n",
      "6VJJ_B      ------------SNTIRVFLPNKQRTVVNVRNGMSLHDCLMKALKVRGLQPECCAVFRLLHEHKGKKARL\n",
      "6XGU_B      ------------SNTIRVFLPNKQRTVVNVRNGMSLHDCLMKALKVRGLQPE-CAVFRLLHEHKGKKARL\n",
      "6XGV_B      ------------SNTIRVFLPNKQRTVVNVRNGMSLHDCLMKALKVRGLQPE-CAVFRLLHEHKGKKARL\n",
      "6XHA_B      ------------SNTIRVFLPNKQRTVVNVRNGMSLHDCLMKALKVRGLQPE-CAVFRLLHEHKGKKARL\n",
      "6XHB_B      ------------SNTIRVFLPNKQRTVVNVRNGMSLHDCLMKALKVRGLQPE-CAVFRLLHEHKGKKARL\n",
      "6XI7_B      -------------NTIRVFLPNKQRTVVNVRNGMSLHDCLMKALKVRGLQPECCAVFRLLH----KKARL\n",
      "7JHP_C      ------------SNTIRVFLPNKQRTVVNVRNGMSLHDCLMKALKVRGLQPECCAVFRLL-----KKARL\n",
      "\n",
      "\n",
      "ARAF        AWDTAIAPLDGEELIVEVL---------------------------------------------------\n",
      "1C1Y_B      DWNTDAASLIGEELQVDFL---------------------------------------------------\n",
      "1GUA_B      DWNTDAASLIGEELQVDFL---------------------------------------------------\n",
      "3KUC_B      DWNTDAASLIGEELQVDFL---------------------------------------------------\n",
      "3KUD_B      DWNTDAASLIGEELQVDFL---------------------------------------------------\n",
      "3NY5_A      GWDTDISWLTGEELHVEVLENVPLT---------------------------------------------\n",
      "3NY5_B      GWDTDISWLTGEELHVEVLENVPLTTH-------------------------------------------\n",
      "3NY5_C      GWDTDISWLTGEELHVEVLENVPLTTH-------------------------------------------\n",
      "3NY5_D      GWDTDISWLTGEELHVEVLENVPL----------------------------------------------\n",
      "4G0N_B      DWNTDAASLIGEELQVDFL---------------------------------------------------\n",
      "4G3X_B      DWNTDAASLIGEELQVDFL---------------------------------------------------\n",
      "6NTC_B      DWNTDAASLIGEELQVDF----------------------------------------------------\n",
      "6NTD_B      DWNTDAASLIGEELQVD-----------------------------------------------------\n",
      "6VJJ_B      DWNTDAASLIGEELQVDFL---------------------------------------------------\n",
      "6XGU_B      DWNTDAASLIGEELQVDFLDHVPLTTHNFARKTFLKLAFCDICQKFLLNGFRCQTCGYKFHEHCSTKVPT\n",
      "6XGV_B      DWNTDAASLIGEELQVDFLDHVPLTTHNFARKTFLKLAFCDICQKFLLNGFRCQTCGYKFHEHCSTKVPT\n",
      "6XHA_B      DWNTDAASLIGEELQVDFLDHVPLTTHNFARKTFLKLAFCDICQKFLLNGFRCQTCGYKFHEHCSTKVPT\n",
      "6XHB_B      DWNTDAASLIGEELQVDFLDHVPLTTHNFARKTFLKLAFCDICQKFLLNGFRCQTCGYKFHEHCSTKVPT\n",
      "6XI7_B      DWNTDAASLIGEELQVDFLDHVPLTTHNFARKTFLKLAFCDICQKFLLNGFRCQTCGYKFHEHCSTKVPT\n",
      "7JHP_C      DWNTDAASLIGEELQVDFLDH--LTTHNFARKTFLKLAFCDICQKFLLNGFRCQTCGYKFHEHCSTKVPT\n",
      "\n",
      "\n",
      "ARAF        ------\n",
      "1C1Y_B      ------\n",
      "1GUA_B      ------\n",
      "3KUC_B      ------\n",
      "3KUD_B      ------\n",
      "3NY5_A      ------\n",
      "3NY5_B      ------\n",
      "3NY5_C      ------\n",
      "3NY5_D      ------\n",
      "4G0N_B      ------\n",
      "4G3X_B      ------\n",
      "6NTC_B      ------\n",
      "6NTD_B      ------\n",
      "6VJJ_B      ------\n",
      "6XGU_B      MCVDWS\n",
      "6XGV_B      MCVDWS\n",
      "6XHA_B      MCVDWS\n",
      "6XHB_B      MCVDWS\n",
      "6XI7_B      MCV---\n",
      "7JHP_C      MCVDW-\n",
      "\n",
      "\n"
     ]
    }
   ],
   "source": [
    "gen.alignment.print_clustal(70)"
   ]
  },
  {
   "cell_type": "markdown",
   "id": "b9ff8ab2-09ef-4106-a576-7b9086de343a",
   "metadata": {},
   "source": [
    "Now we can directly use these template for homology modelling: "
   ]
  },
  {
   "cell_type": "code",
   "execution_count": 8,
   "id": "345df978-6e38-4dd5-8519-2dc669220aa6",
   "metadata": {},
   "outputs": [],
   "source": [
    "# initialize task\n",
    "t = gen.initialize_task(task_name = 'Tutorial8', overwrite = True)\n",
    "\n",
    "# create a model per template\n",
    "templates = [temp for temp in t.alignment.sequences.keys() if temp != 'ARAF']\n",
    "for template in templates:\n",
    "    t.execute_routine(\n",
    "        tag = f'test_{template}', \n",
    "        routine = hm.routines.Routine_automodel_default, \n",
    "        templates = [template],\n",
    "        template_location = './templates/'\n",
    "    )"
   ]
  },
  {
   "cell_type": "code",
   "execution_count": 9,
   "id": "dbb69812-620f-4cd9-ad2b-e0c3015328ff",
   "metadata": {},
   "outputs": [
    {
     "data": {
      "text/plain": [
       "[<homelette.organization.Model at 0x7f22492f4340>,\n",
       " <homelette.organization.Model at 0x7f22492f45b0>,\n",
       " <homelette.organization.Model at 0x7f229829a610>,\n",
       " <homelette.organization.Model at 0x7f2273b6afa0>,\n",
       " <homelette.organization.Model at 0x7f2273b38ee0>,\n",
       " <homelette.organization.Model at 0x7f22491c0e50>,\n",
       " <homelette.organization.Model at 0x7f22491bf070>,\n",
       " <homelette.organization.Model at 0x7f22491bf880>,\n",
       " <homelette.organization.Model at 0x7f22491c5760>,\n",
       " <homelette.organization.Model at 0x7f22491c5a00>,\n",
       " <homelette.organization.Model at 0x7f22491c8310>,\n",
       " <homelette.organization.Model at 0x7f22491c8820>,\n",
       " <homelette.organization.Model at 0x7f22491b0f10>,\n",
       " <homelette.organization.Model at 0x7f22491c96a0>,\n",
       " <homelette.organization.Model at 0x7f22491c9b80>,\n",
       " <homelette.organization.Model at 0x7f22491c8af0>,\n",
       " <homelette.organization.Model at 0x7f22492f49d0>,\n",
       " <homelette.organization.Model at 0x7f22491bfbe0>,\n",
       " <homelette.organization.Model at 0x7f2273b38040>]"
      ]
     },
     "execution_count": 9,
     "metadata": {},
     "output_type": "execute_result"
    }
   ],
   "source": [
    "# inspect models\n",
    "t.models"
   ]
  },
  {
   "cell_type": "markdown",
   "id": "1172b4a9-fb47-43f4-8d42-b2c2fe538836",
   "metadata": {},
   "source": [
    "## Method 2: HHSuite"
   ]
  },
  {
   "cell_type": "markdown",
   "id": "cbace58e-0f3d-4f4a-b35a-90b34eeecdac",
   "metadata": {},
   "source": [
    "This class is build on the `hhblits` query function of the HHSuite3 [5].\n",
    "\n",
    "This has the same interface as `AlignmentGenerator_pdb`, except some different settings for the alignment generation with `get_pdbs`. \n",
    "\n",
    "It should also be noted that technically, this approach does not generate a multiple sequence alignment, but rather a combined alignment of lots of pairwise alignments of query to template. These pairwise alignments are combined on the common sequence they are all aligned to. \n",
    "\n",
    "(This code is commented out since it requires big databases to run, which are not part of the docker container.)"
   ]
  },
  {
   "cell_type": "code",
   "execution_count": 10,
   "id": "61403163-e34e-4fd5-89f3-de78ff762160",
   "metadata": {},
   "outputs": [],
   "source": [
    "# gen = hm.alignment.AlignmentGenerator_hhblits.from_fasta('data/alignments/ARAF.fa')\n",
    "# gen.get_suggestion(database_dir='/home/philipp/Downloads/hhsuite_dbs/')\n",
    "# gen.get_pdbs()\n",
    "# gen.show_suggestion()\n",
    "# t = gen.initialize_task()"
   ]
  },
  {
   "cell_type": "markdown",
   "id": "bdac28e1-4ff3-4798-8d82-793de9831ce1",
   "metadata": {},
   "source": [
    "## Method 3: Using pre-computed alignments\n",
    "\n",
    "If you already have an alignment computed, but want to make use of `get_pdbs` in order to download the templates and process the alignment and the template structures, there is also the possibility to load your alignment into an `AlignmentGenerator` object:"
   ]
  },
  {
   "cell_type": "code",
   "execution_count": 11,
   "id": "66a1aab7-5bc4-409f-a38f-3ba80b5e798e",
   "metadata": {},
   "outputs": [
    {
     "name": "stdout",
     "output_type": "stream",
     "text": [
      "ARAF        -------------GTVKVYLPNKQRTVVTVRDGMSVYDSLDKALKVRGLNQDCCVVYRLI---KGRKTVT\n",
      "3NY5        MGHHHHHHSHMQKPIVRVFLPNKQRTVVPARCGVTVRDSLKKALMMRGLIPECCAVYRIQ---DGEKKPI\n",
      "4G0N        -----------TSNTIRVFLPNKQRTVVNVRNGMSLHDCLMKALKVRGLQPECCAVFRLLHEHKGKKARL\n",
      "\n",
      "\n",
      "ARAF        AWDTAIAPLDGEELIVEVL----------\n",
      "3NY5        GWDTDISWLTGEELHVEVLENVPLTTHNF\n",
      "4G0N        DWNTDAASLIGEELQVDFL----------\n",
      "\n",
      "\n",
      "Guessing template naming format...\n",
      "Template naming format guessed: entry!\n",
      "\n",
      "Checking template dir...\n",
      "Template dir found!\n",
      "\n",
      "Processing templates:\n",
      "\n",
      "3NY5 downloading from PDB...\n",
      "3NY5 downloaded!\n",
      "3NY5_A: Chain extracted!\n",
      "3NY5_A: Alignment updated!\n",
      "3NY5_A: PDB processed!\n",
      "3NY5_B: Chain extracted!\n",
      "3NY5_B: Alignment updated!\n",
      "3NY5_B: PDB processed!\n",
      "3NY5_C: Chain extracted!\n",
      "3NY5_C: Alignment updated!\n",
      "3NY5_C: PDB processed!\n",
      "3NY5_D: Chain extracted!\n",
      "3NY5_D: Alignment updated!\n",
      "3NY5_D: PDB processed!\n",
      "4G0N downloading from PDB...\n",
      "4G0N downloaded!\n",
      "4G0N_B: Chain extracted!\n",
      "4G0N_B: Alignment updated!\n",
      "4G0N_B: PDB processed!\n",
      "\n",
      "Finishing... All templates successfully\n",
      "downloaded and processed!\n",
      "Templates can be found in\n",
      "\"./templates/\".\n",
      "ARAF        -------------GTVKVYLPNKQRTVVTVRDGMSVYDSLDKALKVRGLNQDCCVVYRLI---KGRKTVT\n",
      "3NY5_A      ---------H-QKPIVRVFLPNKQRTVVPARCGVTVRDSLKKAL--RGLIPECCAVYRIQ------KKPI\n",
      "3NY5_B      --------SH-QKPIVRVFLPNKQRTVVPARCGVTVRDSLKKAL--RGLIPECCAVYRIQ-----EKKPI\n",
      "3NY5_C      -----------QKPIVRVFLPNKQRTVVPARCGVTVRDSLKKAL--RGLIPECCAVYRIQ------KKPI\n",
      "3NY5_D      ---------H-QKPIVRVFLPNKQRTVVPARCGVTVRDSLKKAL--RGLIPECCAVYRI-------KKPI\n",
      "4G0N_B      -----------TSNTIRVFLPNKQRTVVNVRNGMSLHDCLMKALKVRGLQPECCAVFRLLHEHKGKKARL\n",
      "\n",
      "\n",
      "ARAF        AWDTAIAPLDGEELIVEVL----------\n",
      "3NY5_A      GWDTDISWLTGEELHVEVLENVPLT----\n",
      "3NY5_B      GWDTDISWLTGEELHVEVLENVPLTTH--\n",
      "3NY5_C      GWDTDISWLTGEELHVEVLENVPLTTH--\n",
      "3NY5_D      GWDTDISWLTGEELHVEVLENVPL-----\n",
      "4G0N_B      DWNTDAASLIGEELQVDFL----------\n",
      "\n",
      "\n"
     ]
    }
   ],
   "source": [
    "# initialize an alignment generator from a pre-computed alignemnt\n",
    "gen = hm.alignment.AlignmentGenerator_from_aln(\n",
    "    alignment_file = 'data/alignments/unprocessed.fasta_aln',\n",
    "    target = 'ARAF')\n",
    "\n",
    "gen.show_suggestion()\n",
    "gen.alignment.print_clustal(70)\n",
    "gen.get_pdbs()\n",
    "gen.alignment.print_clustal(70)"
   ]
  },
  {
   "cell_type": "markdown",
   "id": "35f5fb5b-bce7-46a0-9274-663d2d8813e9",
   "metadata": {},
   "source": [
    "Again, for every template structure, `homelette` is finding which chains fit to the sequence and then extract all of them."
   ]
  },
  {
   "cell_type": "markdown",
   "id": "de05c02c-dd66-4b63-bbb6-0d1083c87fa7",
   "metadata": {},
   "source": [
    "Of course, if your alignment and template(s) are already processed, it is perfectly fine to use the `Alignment` class directly as we have done in the previous tutorials."
   ]
  },
  {
   "cell_type": "markdown",
   "id": "ef6e1a55-3371-465f-93af-33cf785449b8",
   "metadata": {},
   "source": [
    "## Implementing own methods"
   ]
  },
  {
   "cell_type": "markdown",
   "id": "6198bd53-fb5d-4c34-966b-9e1dfb4c5cd2",
   "metadata": {},
   "source": [
    "While not discussed in **Tutorial 4**, `AlignmentGenerator` object are also building blocks in the `homelette` framework and custom versions can be implemented. All `AlignmentGenerator` children classes so far inherit from the `AlignmentGenerator` abstract base class, which contains some useful functionality for writing your own alignment generations, in particular the `get_pdbs` function."
   ]
  },
  {
   "cell_type": "markdown",
   "id": "f456e59d-0138-4e9c-a925-0c6f16989b58",
   "metadata": {},
   "source": [
    "## Further Reading"
   ]
  },
  {
   "cell_type": "markdown",
   "id": "af102ef2-01e0-448b-8f46-8ce72d3d3d5b",
   "metadata": {},
   "source": [
    "Congratulation on finishing the tutorial about alignment generation in `homelette`.\n",
    "\n",
    "Please note that there are other tutorials, which will teach you more about how to use `homelette`. \n",
    "\n",
    "- **Tutorial 1**: Learn about the basics of `homelette`.\n",
    "- **Tutorial 2**: Learn more about already implemented routines for homology modelling.\n",
    "- **Tutorial 3**: Learn about the evaluation metrics available with `homelette`.\n",
    "- **Tutorial 4**: Learn about extending `homelette`'s functionality by defining your own modelling routines and evaluation metrics.\n",
    "- **Tutorial 5**: Learn about how to use parallelization in order to generate and evaluate models more efficiently.\n",
    "- **Tutorial 6**: Learn about modelling protein complexes.\n",
    "- **Tutorial 7**: Learn about assembling custom pipelines."
   ]
  },
  {
   "cell_type": "markdown",
   "id": "50479223-7937-4192-95aa-810e4e1aa710",
   "metadata": {},
   "source": [
    "## References"
   ]
  },
  {
   "cell_type": "markdown",
   "id": "88a8fe50-0290-4de8-bfe8-d745e2c432ec",
   "metadata": {},
   "source": [
    "[1] Rose, Y., Duarte, J. M., Lowe, R., Segura, J., Bi, C., Bhikadiya, C., Chen, L., Rose, A. S., Bittrich, S., Burley, S. K., & Westbrook, J. D. (2021). RCSB Protein Data Bank: Architectural Advances Towards Integrated Searching and Efficient Access to Macromolecular Structure Data from the PDB Archive. Journal of Molecular Biology, 433(11), 166704. https://doi.org/10.1016/J.JMB.2020.11.003\n",
    "\n",
    "[2] Steinegger, M., & Söding, J. (2017). MMseqs2 enables sensitive protein sequence searching for the analysis of massive data sets. Nature Biotechnology 2017 35:11, 35(11), 1026–1028. https://doi.org/10.1038/nbt.3988\n",
    "\n",
    "[3] Sievers, F., Wilm, A., Dineen, D., Gibson, T. J., Karplus, K., Li, W., Lopez, R., McWilliam, H., Remmert, M., Söding, J., Thompson, J. D., & Higgins, D. G. (2011). Fast, scalable generation of high-quality protein multiple sequence alignments using Clustal Omega. Molecular Systems Biology, 7(1), 539. https://doi.org/10.1038/MSB.2011.75\n",
    "\n",
    "[4] Sievers, F., & Higgins, D. G. (2018). Clustal Omega for making accurate alignments of many protein sequences. Protein Science, 27(1), 135–145. https://doi.org/10.1002/PRO.3290\n",
    "\n",
    "[5] Steinegger, M., Meier, M., Mirdita, M., Vöhringer, H., Haunsberger, S. J., & Söding, J. (2019). HH-suite3 for fast remote homology detection and deep protein annotation. BMC Bioinformatics, 20(1), 1–15. https://doi.org/10.1186/S12859-019-3019-7/FIGURES/7"
   ]
  },
  {
   "cell_type": "markdown",
   "id": "98e08150-718d-4db3-b81b-cebc4e5cf01e",
   "metadata": {},
   "source": [
    "## Session Info"
   ]
  },
  {
   "cell_type": "code",
   "execution_count": 12,
   "id": "4a99c9f3-34a6-456d-b80c-7c3aa4d82bb8",
   "metadata": {
    "tags": []
   },
   "outputs": [
    {
     "name": "stdout",
     "output_type": "stream",
     "text": [
      "-----\n",
      "homelette           1.4\n",
      "pandas              1.5.3\n",
      "session_info        1.0.0\n",
      "-----\n",
      "PIL                 7.0.0\n",
      "altmod              NA\n",
      "anyio               NA\n",
      "asttokens           NA\n",
      "attr                19.3.0\n",
      "babel               2.12.1\n",
      "backcall            0.2.0\n",
      "certifi             2022.12.07\n",
      "chardet             3.0.4\n",
      "charset_normalizer  3.1.0\n",
      "comm                0.1.2\n",
      "cycler              0.10.0\n",
      "cython_runtime      NA\n",
      "dateutil            2.8.2\n",
      "debugpy             1.6.6\n",
      "decorator           4.4.2\n",
      "executing           1.2.0\n",
      "fastjsonschema      NA\n",
      "idna                3.4\n",
      "importlib_metadata  NA\n",
      "importlib_resources NA\n",
      "ipykernel           6.21.3\n",
      "ipython_genutils    0.2.0\n",
      "jedi                0.18.2\n",
      "jinja2              3.1.2\n",
      "json5               NA\n",
      "jsonschema          4.17.3\n",
      "jupyter_events      0.6.3\n",
      "jupyter_server      2.4.0\n",
      "jupyterlab_server   2.20.0\n",
      "kiwisolver          1.0.1\n",
      "markupsafe          2.1.2\n",
      "matplotlib          3.1.2\n",
      "modeller            10.4\n",
      "more_itertools      NA\n",
      "mpl_toolkits        NA\n",
      "nbformat            5.7.3\n",
      "numexpr             2.8.4\n",
      "numpy               1.24.2\n",
      "ost                 2.3.1\n",
      "packaging           20.3\n",
      "parso               0.8.3\n",
      "pexpect             4.8.0\n",
      "pickleshare         0.7.5\n",
      "pkg_resources       NA\n",
      "platformdirs        3.1.1\n",
      "prometheus_client   NA\n",
      "promod3             3.2.1\n",
      "prompt_toolkit      3.0.38\n",
      "psutil              5.5.1\n",
      "ptyprocess          0.7.0\n",
      "pure_eval           0.2.2\n",
      "pydev_ipython       NA\n",
      "pydevconsole        NA\n",
      "pydevd              2.9.5\n",
      "pydevd_file_utils   NA\n",
      "pydevd_plugins      NA\n",
      "pydevd_tracing      NA\n",
      "pygments            2.14.0\n",
      "pyparsing           2.4.6\n",
      "pyrsistent          NA\n",
      "pythonjsonlogger    NA\n",
      "pytz                2022.7.1\n",
      "qmean               NA\n",
      "requests            2.28.2\n",
      "rfc3339_validator   0.1.4\n",
      "rfc3986_validator   0.1.1\n",
      "send2trash          NA\n",
      "sitecustomize       NA\n",
      "six                 1.12.0\n",
      "sniffio             1.3.0\n",
      "stack_data          0.6.2\n",
      "swig_runtime_data4  NA\n",
      "tornado             6.2\n",
      "traitlets           5.9.0\n",
      "urllib3             1.26.15\n",
      "wcwidth             NA\n",
      "websocket           1.5.1\n",
      "yaml                6.0\n",
      "zipp                NA\n",
      "zmq                 25.0.1\n",
      "-----\n",
      "IPython             8.11.0\n",
      "jupyter_client      8.0.3\n",
      "jupyter_core        5.2.0\n",
      "jupyterlab          3.6.1\n",
      "notebook            6.5.3\n",
      "-----\n",
      "Python 3.8.10 (default, Nov 14 2022, 12:59:47) [GCC 9.4.0]\n",
      "Linux-4.15.0-206-generic-x86_64-with-glibc2.29\n",
      "-----\n",
      "Session information updated at 2023-03-15 23:40\n"
     ]
    }
   ],
   "source": [
    "# session info\n",
    "import session_info\n",
    "session_info.show(html = False, dependencies = True)"
   ]
  }
 ],
 "metadata": {
  "kernelspec": {
   "display_name": "Python 3 (ipykernel)",
   "language": "python",
   "name": "python3"
  },
  "language_info": {
   "codemirror_mode": {
    "name": "ipython",
    "version": 3
   },
   "file_extension": ".py",
   "mimetype": "text/x-python",
   "name": "python",
   "nbconvert_exporter": "python",
   "pygments_lexer": "ipython3",
   "version": "3.8.10"
  }
 },
 "nbformat": 4,
 "nbformat_minor": 5
}
