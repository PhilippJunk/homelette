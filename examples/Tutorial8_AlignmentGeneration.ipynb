{
 "cells": [
  {
   "cell_type": "markdown",
   "id": "ad576ae6-c248-42db-882c-37aff4be1102",
   "metadata": {},
   "source": [
    "# Tutorial 8: Automatic Alignment Generation"
   ]
  },
  {
   "cell_type": "code",
   "execution_count": 1,
   "id": "4ccf14d4-9acd-44c7-abf8-6463ca72daa3",
   "metadata": {},
   "outputs": [
    {
     "name": "stderr",
     "output_type": "stream",
     "text": [
      "/home/junkpp/work/programs/homelette/homelette/__init__.py:66: UserWarning: Module \"altmod\" could not be imported.\n",
      "  warnings.warn(msg)\n",
      "/home/junkpp/work/programs/homelette/homelette/__init__.py:66: UserWarning: Module \"ost\" could not be imported.\n",
      "  warnings.warn(msg)\n",
      "/home/junkpp/work/programs/homelette/homelette/__init__.py:66: UserWarning: Module \"promod3\" could not be imported.\n",
      "  warnings.warn(msg)\n",
      "/home/junkpp/work/programs/homelette/homelette/__init__.py:66: UserWarning: Module \"qmean\" could not be imported.\n",
      "  warnings.warn(msg)\n",
      "/home/junkpp/work/programs/homelette/homelette/__init__.py:71: UserWarning: Please install the missing modules in order to enjoy the full functionality of \"homology\"\n",
      "  warnings.warn(msg)\n"
     ]
    }
   ],
   "source": [
    "import homelette as hm"
   ]
  },
  {
   "cell_type": "markdown",
   "id": "58f03c41-0d23-4a8f-a100-64f837dadd11",
   "metadata": {},
   "source": [
    "TODO"
   ]
  },
  {
   "cell_type": "markdown",
   "id": "6683c961-458e-4da8-ab3b-814057b8521d",
   "metadata": {},
   "source": [
    "## Introduction"
   ]
  },
  {
   "cell_type": "markdown",
   "id": "fea0b53f-47e8-4258-8015-5775a96c2df9",
   "metadata": {},
   "source": [
    "Talk about alignments in general, the requirements for alignments for homology modelling, which strategies have been applied, etc"
   ]
  },
  {
   "cell_type": "markdown",
   "id": "76a1561e-c51f-4d1a-80f0-ae811f3df000",
   "metadata": {},
   "source": [
    "## Method 1: Querying PDB and Realignment of template sequences with ClustaO"
   ]
  },
  {
   "cell_type": "code",
   "execution_count": null,
   "id": "402f9b11-0d91-4888-a63c-66dbab027a56",
   "metadata": {},
   "outputs": [],
   "source": []
  },
  {
   "cell_type": "markdown",
   "id": "1172b4a9-fb47-43f4-8d42-b2c2fe538836",
   "metadata": {},
   "source": [
    "## Method 2: hhsuite"
   ]
  },
  {
   "cell_type": "code",
   "execution_count": null,
   "id": "958e8f15-caab-4fb8-91ea-6309a9f72181",
   "metadata": {},
   "outputs": [],
   "source": []
  },
  {
   "cell_type": "markdown",
   "id": "ef6e1a55-3371-465f-93af-33cf785449b8",
   "metadata": {},
   "source": [
    "## Implementing own methods"
   ]
  },
  {
   "cell_type": "code",
   "execution_count": null,
   "id": "49e8fac2-20e3-4d09-9c0b-a1d6c8102461",
   "metadata": {},
   "outputs": [],
   "source": []
  },
  {
   "cell_type": "markdown",
   "id": "f456e59d-0138-4e9c-a925-0c6f16989b58",
   "metadata": {},
   "source": [
    "## Further Reading"
   ]
  },
  {
   "cell_type": "code",
   "execution_count": null,
   "id": "199cd5f9-33d5-428c-8d53-a96212d2d1f3",
   "metadata": {},
   "outputs": [],
   "source": []
  },
  {
   "cell_type": "markdown",
   "id": "50479223-7937-4192-95aa-810e4e1aa710",
   "metadata": {},
   "source": [
    "## References"
   ]
  },
  {
   "cell_type": "code",
   "execution_count": null,
   "id": "501a7b5d-6843-4e2a-b520-2f3f6ac755a3",
   "metadata": {},
   "outputs": [],
   "source": []
  },
  {
   "cell_type": "markdown",
   "id": "98e08150-718d-4db3-b81b-cebc4e5cf01e",
   "metadata": {},
   "source": [
    "## Session Info"
   ]
  },
  {
   "cell_type": "code",
   "execution_count": 2,
   "id": "4a99c9f3-34a6-456d-b80c-7c3aa4d82bb8",
   "metadata": {},
   "outputs": [
    {
     "ename": "ModuleNotFoundError",
     "evalue": "No module named 'session_info'",
     "output_type": "error",
     "traceback": [
      "\u001b[0;31m---------------------------------------------------------------------------\u001b[0m",
      "\u001b[0;31mModuleNotFoundError\u001b[0m                       Traceback (most recent call last)",
      "\u001b[0;32m<ipython-input-2-598b98feada7>\u001b[0m in \u001b[0;36m<module>\u001b[0;34m\u001b[0m\n\u001b[1;32m      1\u001b[0m \u001b[0;31m# session info\u001b[0m\u001b[0;34m\u001b[0m\u001b[0;34m\u001b[0m\u001b[0;34m\u001b[0m\u001b[0m\n\u001b[0;32m----> 2\u001b[0;31m \u001b[0;32mimport\u001b[0m \u001b[0msession_info\u001b[0m\u001b[0;34m\u001b[0m\u001b[0;34m\u001b[0m\u001b[0m\n\u001b[0m\u001b[1;32m      3\u001b[0m \u001b[0msession_info\u001b[0m\u001b[0;34m.\u001b[0m\u001b[0mshow\u001b[0m\u001b[0;34m(\u001b[0m\u001b[0mhtml\u001b[0m \u001b[0;34m=\u001b[0m \u001b[0;32mFalse\u001b[0m\u001b[0;34m,\u001b[0m \u001b[0mdependencies\u001b[0m \u001b[0;34m=\u001b[0m \u001b[0;32mTrue\u001b[0m\u001b[0;34m)\u001b[0m\u001b[0;34m\u001b[0m\u001b[0;34m\u001b[0m\u001b[0m\n",
      "\u001b[0;31mModuleNotFoundError\u001b[0m: No module named 'session_info'"
     ]
    }
   ],
   "source": [
    "# session info\n",
    "import session_info\n",
    "session_info.show(html = False, dependencies = True)"
   ]
  }
 ],
 "metadata": {
  "kernelspec": {
   "display_name": "Python [conda env:homelette_testing]",
   "language": "python",
   "name": "conda-env-homelette_testing-py"
  },
  "language_info": {
   "codemirror_mode": {
    "name": "ipython",
    "version": 3
   },
   "file_extension": ".py",
   "mimetype": "text/x-python",
   "name": "python",
   "nbconvert_exporter": "python",
   "pygments_lexer": "ipython3",
   "version": "3.6.13"
  }
 },
 "nbformat": 4,
 "nbformat_minor": 5
}
