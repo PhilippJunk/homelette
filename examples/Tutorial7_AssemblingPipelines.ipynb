{
 "cells": [
  {
   "cell_type": "markdown",
   "id": "efc43fce-98db-46de-9b6b-31819c60a57c",
   "metadata": {},
   "source": [
    "# Tutorial 7: Assembling custom pipelines"
   ]
  },
  {
   "cell_type": "code",
   "execution_count": 1,
   "id": "58b72618-24c8-4d91-b7bb-4eee33deef60",
   "metadata": {},
   "outputs": [],
   "source": [
    "import homelette as hm\n",
    "\n",
    "import matplotlib as plt\n",
    "import seaborn as sns"
   ]
  },
  {
   "cell_type": "markdown",
   "id": "28373702-11c8-4d3c-9eab-1bdffe7de887",
   "metadata": {},
   "source": [
    "## Introduction\n",
    "\n",
    "Welcome to the final tutorial on `homelette`. This tutorial is about combining what we learnt in the previous tutorials about model generating and model evaluating building blocks.\n",
    "\n",
    "The strength of `homelette` lies in its ability to *A)* be almost freely extendable by the user (see **Tutorial 4**) and *B)* in the ease with which pre-defined or custom-made building blocks for model generation and evaluation can be assembled into custom pipelines. This tutorial showcases *B)*.\n",
    "\n",
    "We will build models for ARAF with two different routines, `Routine_automodel_default` and `Routine_automodel_slow` [1,2], and from different templates (BRAF ([3NY5](https://www.rcsb.org/structure/3NY5)) and RAF1 ([4G0N](https://www.rcsb.org/structure/4G0N))). The generated models will be evaluated by SOAP scores and MolProbity and a combined score will be calculated using Borda Count [3,4,5,6]. "
   ]
  },
  {
   "cell_type": "markdown",
   "id": "09d48f41-955a-4297-a90c-6fa429980253",
   "metadata": {},
   "source": [
    "## Alignment\n",
    "\n",
    "Consistent with the other tutorials, we will be modelling the protein ARAF. For this tutorial, we have prepared a more extensive alignment with two template structures, *3NY5* and *4G0N*."
   ]
  },
  {
   "cell_type": "code",
   "execution_count": 2,
   "id": "cffad201-52bf-46e0-83c0-215f5daacc9b",
   "metadata": {},
   "outputs": [
    {
     "name": "stdout",
     "output_type": "stream",
     "text": [
      "ARAF        ---GTVKVYLPNKQRTVVTVRDGMSVYDSLDKALKVRGLNQDCCVVYRLI---KGRKTVTAWDTAIAPLD\n",
      "3NY5        HQKPIVRVFLPNKQRTVVPARCGVTVRDSLKKAL--RGLIPECCAVYRIQ------KKPIGWDTDISWLT\n",
      "4G0N        -TSNTIRVFLPNKQRTVVNVRNGMSLHDCLMKALKVRGLQPECCAVFRLLHEHKGKKARLDWNTDAASLI\n",
      "\n",
      "\n",
      "ARAF        GEELIVEVL------\n",
      "3NY5        GEELHVEVLENVPLT\n",
      "4G0N        GEELQVDFL------\n",
      "\n",
      "\n"
     ]
    }
   ],
   "source": [
    "# import alignment\n",
    "aln = hm.Alignment('data/single/aln_2.fasta_aln')\n",
    "aln.select_sequences(('ARAF', '3NY5', '4G0N')) #TODO DELETE\n",
    "aln.print_clustal(line_wrap=70)"
   ]
  },
  {
   "cell_type": "code",
   "execution_count": 3,
   "id": "3a8ff18c-5abc-45e5-88bf-9656e6233aa1",
   "metadata": {},
   "outputs": [
    {
     "data": {
      "text/html": [
       "<div>\n",
       "<style scoped>\n",
       "    .dataframe tbody tr th:only-of-type {\n",
       "        vertical-align: middle;\n",
       "    }\n",
       "\n",
       "    .dataframe tbody tr th {\n",
       "        vertical-align: top;\n",
       "    }\n",
       "\n",
       "    .dataframe thead th {\n",
       "        text-align: right;\n",
       "    }\n",
       "</style>\n",
       "<table border=\"1\" class=\"dataframe\">\n",
       "  <thead>\n",
       "    <tr style=\"text-align: right;\">\n",
       "      <th></th>\n",
       "      <th>sequence_1</th>\n",
       "      <th>sequence_2</th>\n",
       "      <th>identity</th>\n",
       "    </tr>\n",
       "  </thead>\n",
       "  <tbody>\n",
       "    <tr>\n",
       "      <th>0</th>\n",
       "      <td>ARAF</td>\n",
       "      <td>ARAF</td>\n",
       "      <td>100.00</td>\n",
       "    </tr>\n",
       "    <tr>\n",
       "      <th>2</th>\n",
       "      <td>ARAF</td>\n",
       "      <td>4G0N</td>\n",
       "      <td>60.27</td>\n",
       "    </tr>\n",
       "    <tr>\n",
       "      <th>1</th>\n",
       "      <td>ARAF</td>\n",
       "      <td>3NY5</td>\n",
       "      <td>57.53</td>\n",
       "    </tr>\n",
       "  </tbody>\n",
       "</table>\n",
       "</div>"
      ],
      "text/plain": [
       "  sequence_1 sequence_2  identity\n",
       "0       ARAF       ARAF    100.00\n",
       "2       ARAF       4G0N     60.27\n",
       "1       ARAF       3NY5     57.53"
      ]
     },
     "execution_count": 3,
     "metadata": {},
     "output_type": "execute_result"
    }
   ],
   "source": [
    "# calculate sequence identity\n",
    "aln.calc_identity_target('ARAF').sort_values(by='identity', ascending=False)"
   ]
  },
  {
   "cell_type": "code",
   "execution_count": 4,
   "id": "7bd9f5f2-1276-452e-9e1c-fac9c5d37d29",
   "metadata": {},
   "outputs": [],
   "source": [
    "# annotate alignment\n",
    "aln.get_sequence('ARAF').annotate(seq_type = 'sequence')\n",
    "aln.get_sequence('3NY5').annotate(seq_type = 'structure',\n",
    "                              pdb_code = '3NY5',\n",
    "                              begin_res = '1',\n",
    "                              begin_chain = 'A',\n",
    "                              end_res = '77', \n",
    "                              end_chain = 'A')\n",
    "aln.get_sequence('4G0N').annotate(seq_type = 'structure',\n",
    "                              pdb_code = '4G0N',\n",
    "                              begin_res = '1',\n",
    "                              begin_chain = 'A',\n",
    "                              end_res = '78', \n",
    "                              end_chain = 'A')"
   ]
  },
  {
   "cell_type": "markdown",
   "id": "c9505d84-162e-4faf-aea4-453ea058b282",
   "metadata": {},
   "source": [
    "## Custom pipeline"
   ]
  },
  {
   "cell_type": "markdown",
   "id": "ba99629c-a132-42a3-893f-a27a386d796e",
   "metadata": {},
   "source": [
    "The easiest way to formulate custom pipelines by assembling the `homelette` building blocks of model building and evaluation is to construct custom `Task` objects:"
   ]
  },
  {
   "cell_type": "code",
   "execution_count": 5,
   "id": "9409f163-1126-4815-bf86-bd964d2fb631",
   "metadata": {},
   "outputs": [],
   "source": [
    "class CustomPipeline(hm.Task):\n",
    "    '''\n",
    "    Example for a cumstom pipeline\n",
    "    '''\n",
    "    def model_generation(self, templates):\n",
    "        # model generation with automodel_default\n",
    "        self.execute_routine(tag='automodel_def_' + '-'.join(templates),\n",
    "                             routine = hm.routines.Routine_automodel_default,\n",
    "                             templates = templates,\n",
    "                             template_location = './data/complex/',\n",
    "                             n_models = 20,\n",
    "                             n_threads = 5)\n",
    "        # model generation with autmodel_slow\n",
    "        self.execute_routine(tag='autmodel_slow_' + '-'.join(templates),\n",
    "                             routine = hm.routines.Routine_automodel_slow,\n",
    "                             templates = templates,\n",
    "                             template_location = './data/complex/',\n",
    "                             n_models = 20,\n",
    "                             n_threads = 5)\n",
    "        \n",
    "    def model_evaluation(self):\n",
    "        # perform evaluation\n",
    "        self.evaluate_models(hm.evaluation.Evaluation_mol_probity,\n",
    "                             n_threads=5)\n",
    "        self.evaluate_models(hm.evaluation.Evaluation_soap_protein)\n",
    "        ev = self.get_evaluation()\n",
    "        # borda count for best models\n",
    "        ev['points_soap'] = ev.shape[0] - ev['soap_protein'].rank()\n",
    "        ev['points_mol_probity'] = ev.shape[0] - ev['mp_score'].rank()\n",
    "        ev['borda_score'] = ev['points_soap'] + ev['points_mol_probity']\n",
    "        ev['borda_rank'] = ev['borda_score'].rank(ascending=False)\n",
    "        ev = ev.drop(labels=['points_soap', 'points_mol_probity'], axis=1)\n",
    "        return ev"
   ]
  },
  {
   "cell_type": "markdown",
   "id": "256276e6-6d8a-4bda-9b93-4f93c26a4f94",
   "metadata": {},
   "source": [
    "We have constructed a custom `Task` object (more specifically, a custom objects that inherits all methods and attributes from `Task`) and added two more functions: `model_generation` and `model_evaluation`.\n",
    "\n",
    "In `CustomPipeline.model_generation` we are using two routines (`Routine_automodel_default` and `Routine_automodel_slow`) to generate 20 models each. In `CustomPipeline.model_generation` we evaluate the models using `Evaluation_mol_probity` and `Evaluation_soap_protein` and then rank the generated models based on both evaluation metrics using Borda Count.\n",
    "\n",
    "After constructing our pipeline, let's execute it with two different templates as an example:"
   ]
  },
  {
   "cell_type": "code",
   "execution_count": 6,
   "id": "aa722d96-873a-4410-a1d9-3456176e7e8b",
   "metadata": {},
   "outputs": [],
   "source": [
    "# execute pipeline for different templates\n",
    "t = CustomPipeline(task_name = 'Tutorial7',\n",
    "                   target = 'ARAF',\n",
    "                   alignment = aln,\n",
    "                   overwrite = True)\n",
    "\n",
    "t.model_generation(['3NY5'])\n",
    "t.model_generation(['4G0N'])\n",
    "\n",
    "df_eval = t.model_evaluation()"
   ]
  },
  {
   "cell_type": "markdown",
   "id": "3489aaa4-9eba-462d-9a1a-0fee0434f155",
   "metadata": {},
   "source": [
    "We have successfully generated and evaluated 80 models."
   ]
  },
  {
   "cell_type": "code",
   "execution_count": 7,
   "id": "951af432-b2c9-45c8-a693-bd23ef9a0dd6",
   "metadata": {
    "tags": []
   },
   "outputs": [],
   "source": [
    "# get template from tag\n",
    "df_eval['template'] = df_eval['tag'].str.contains('3NY5').map({True: '3NY5', False: '4G0N'})"
   ]
  },
  {
   "cell_type": "code",
   "execution_count": 8,
   "id": "61362437-44e6-4fc6-9537-a31a235eb497",
   "metadata": {},
   "outputs": [
    {
     "data": {
      "text/html": [
       "<div>\n",
       "<style scoped>\n",
       "    .dataframe tbody tr th:only-of-type {\n",
       "        vertical-align: middle;\n",
       "    }\n",
       "\n",
       "    .dataframe tbody tr th {\n",
       "        vertical-align: top;\n",
       "    }\n",
       "\n",
       "    .dataframe thead th {\n",
       "        text-align: right;\n",
       "    }\n",
       "</style>\n",
       "<table border=\"1\" class=\"dataframe\">\n",
       "  <thead>\n",
       "    <tr style=\"text-align: right;\">\n",
       "      <th></th>\n",
       "      <th>model</th>\n",
       "      <th>tag</th>\n",
       "      <th>routine</th>\n",
       "      <th>mp_score</th>\n",
       "      <th>soap_protein</th>\n",
       "      <th>borda_score</th>\n",
       "      <th>borda_rank</th>\n",
       "      <th>template</th>\n",
       "    </tr>\n",
       "  </thead>\n",
       "  <tbody>\n",
       "    <tr>\n",
       "      <th>64</th>\n",
       "      <td>autmodel_slow_4G0N_5.pdb</td>\n",
       "      <td>autmodel_slow_4G0N</td>\n",
       "      <td>automodel_slow</td>\n",
       "      <td>2.21</td>\n",
       "      <td>-45545.746094</td>\n",
       "      <td>148.0</td>\n",
       "      <td>1.0</td>\n",
       "      <td>4G0N</td>\n",
       "    </tr>\n",
       "    <tr>\n",
       "      <th>28</th>\n",
       "      <td>autmodel_slow_3NY5_9.pdb</td>\n",
       "      <td>autmodel_slow_3NY5</td>\n",
       "      <td>automodel_slow</td>\n",
       "      <td>2.31</td>\n",
       "      <td>-45972.250000</td>\n",
       "      <td>145.0</td>\n",
       "      <td>2.0</td>\n",
       "      <td>3NY5</td>\n",
       "    </tr>\n",
       "    <tr>\n",
       "      <th>77</th>\n",
       "      <td>autmodel_slow_4G0N_18.pdb</td>\n",
       "      <td>autmodel_slow_4G0N</td>\n",
       "      <td>automodel_slow</td>\n",
       "      <td>2.17</td>\n",
       "      <td>-45043.023438</td>\n",
       "      <td>144.0</td>\n",
       "      <td>3.0</td>\n",
       "      <td>4G0N</td>\n",
       "    </tr>\n",
       "    <tr>\n",
       "      <th>24</th>\n",
       "      <td>autmodel_slow_3NY5_5.pdb</td>\n",
       "      <td>autmodel_slow_3NY5</td>\n",
       "      <td>automodel_slow</td>\n",
       "      <td>2.42</td>\n",
       "      <td>-46180.289062</td>\n",
       "      <td>138.0</td>\n",
       "      <td>4.0</td>\n",
       "      <td>3NY5</td>\n",
       "    </tr>\n",
       "    <tr>\n",
       "      <th>69</th>\n",
       "      <td>autmodel_slow_4G0N_10.pdb</td>\n",
       "      <td>autmodel_slow_4G0N</td>\n",
       "      <td>automodel_slow</td>\n",
       "      <td>2.29</td>\n",
       "      <td>-45205.257812</td>\n",
       "      <td>137.0</td>\n",
       "      <td>5.0</td>\n",
       "      <td>4G0N</td>\n",
       "    </tr>\n",
       "    <tr>\n",
       "      <th>63</th>\n",
       "      <td>autmodel_slow_4G0N_4.pdb</td>\n",
       "      <td>autmodel_slow_4G0N</td>\n",
       "      <td>automodel_slow</td>\n",
       "      <td>2.26</td>\n",
       "      <td>-44921.707031</td>\n",
       "      <td>134.0</td>\n",
       "      <td>6.0</td>\n",
       "      <td>4G0N</td>\n",
       "    </tr>\n",
       "    <tr>\n",
       "      <th>22</th>\n",
       "      <td>autmodel_slow_3NY5_3.pdb</td>\n",
       "      <td>autmodel_slow_3NY5</td>\n",
       "      <td>automodel_slow</td>\n",
       "      <td>2.49</td>\n",
       "      <td>-48465.539062</td>\n",
       "      <td>132.5</td>\n",
       "      <td>7.0</td>\n",
       "      <td>3NY5</td>\n",
       "    </tr>\n",
       "    <tr>\n",
       "      <th>72</th>\n",
       "      <td>autmodel_slow_4G0N_13.pdb</td>\n",
       "      <td>autmodel_slow_4G0N</td>\n",
       "      <td>automodel_slow</td>\n",
       "      <td>2.20</td>\n",
       "      <td>-44206.707031</td>\n",
       "      <td>131.0</td>\n",
       "      <td>8.0</td>\n",
       "      <td>4G0N</td>\n",
       "    </tr>\n",
       "    <tr>\n",
       "      <th>79</th>\n",
       "      <td>autmodel_slow_4G0N_20.pdb</td>\n",
       "      <td>autmodel_slow_4G0N</td>\n",
       "      <td>automodel_slow</td>\n",
       "      <td>2.24</td>\n",
       "      <td>-44585.621094</td>\n",
       "      <td>130.5</td>\n",
       "      <td>9.0</td>\n",
       "      <td>4G0N</td>\n",
       "    </tr>\n",
       "    <tr>\n",
       "      <th>33</th>\n",
       "      <td>autmodel_slow_3NY5_14.pdb</td>\n",
       "      <td>autmodel_slow_3NY5</td>\n",
       "      <td>automodel_slow</td>\n",
       "      <td>2.50</td>\n",
       "      <td>-45825.039062</td>\n",
       "      <td>125.5</td>\n",
       "      <td>10.0</td>\n",
       "      <td>3NY5</td>\n",
       "    </tr>\n",
       "  </tbody>\n",
       "</table>\n",
       "</div>"
      ],
      "text/plain": [
       "                        model                 tag         routine  mp_score  \\\n",
       "64   autmodel_slow_4G0N_5.pdb  autmodel_slow_4G0N  automodel_slow      2.21   \n",
       "28   autmodel_slow_3NY5_9.pdb  autmodel_slow_3NY5  automodel_slow      2.31   \n",
       "77  autmodel_slow_4G0N_18.pdb  autmodel_slow_4G0N  automodel_slow      2.17   \n",
       "24   autmodel_slow_3NY5_5.pdb  autmodel_slow_3NY5  automodel_slow      2.42   \n",
       "69  autmodel_slow_4G0N_10.pdb  autmodel_slow_4G0N  automodel_slow      2.29   \n",
       "63   autmodel_slow_4G0N_4.pdb  autmodel_slow_4G0N  automodel_slow      2.26   \n",
       "22   autmodel_slow_3NY5_3.pdb  autmodel_slow_3NY5  automodel_slow      2.49   \n",
       "72  autmodel_slow_4G0N_13.pdb  autmodel_slow_4G0N  automodel_slow      2.20   \n",
       "79  autmodel_slow_4G0N_20.pdb  autmodel_slow_4G0N  automodel_slow      2.24   \n",
       "33  autmodel_slow_3NY5_14.pdb  autmodel_slow_3NY5  automodel_slow      2.50   \n",
       "\n",
       "    soap_protein  borda_score  borda_rank template  \n",
       "64 -45545.746094        148.0         1.0     4G0N  \n",
       "28 -45972.250000        145.0         2.0     3NY5  \n",
       "77 -45043.023438        144.0         3.0     4G0N  \n",
       "24 -46180.289062        138.0         4.0     3NY5  \n",
       "69 -45205.257812        137.0         5.0     4G0N  \n",
       "63 -44921.707031        134.0         6.0     4G0N  \n",
       "22 -48465.539062        132.5         7.0     3NY5  \n",
       "72 -44206.707031        131.0         8.0     4G0N  \n",
       "79 -44585.621094        130.5         9.0     4G0N  \n",
       "33 -45825.039062        125.5        10.0     3NY5  "
      ]
     },
     "execution_count": 8,
     "metadata": {},
     "output_type": "execute_result"
    }
   ],
   "source": [
    "df_eval.sort_values(by = 'borda_rank').head(10)"
   ]
  },
  {
   "cell_type": "markdown",
   "id": "e0d67d8f-e807-4147-8f55-af7f1bdccebd",
   "metadata": {},
   "source": [
    "We can see that most of the best 10 models were generated with the slower routine `Routine_autmodel_slow`. This is to be expected, as this routine spends more time on model refinement and should therefore produce \"better\" models.\n",
    "\n",
    "Next, we visualize the results of our evaluation with `seaborn`."
   ]
  },
  {
   "cell_type": "markdown",
   "id": "8fc9c43d-621e-44f5-8769-1fe4598484d5",
   "metadata": {},
   "source": [
    "## Visualization"
   ]
  },
  {
   "cell_type": "code",
   "execution_count": 9,
   "id": "c723725e-1fd4-49c3-9e89-878f42a724bc",
   "metadata": {},
   "outputs": [
    {
     "data": {
      "image/png": "[encoded data removed]",
      "text/plain": [
       "<Figure size 720x720 with 1 Axes>"
      ]
     },
     "metadata": {
      "needs_background": "light"
     },
     "output_type": "display_data"
    }
   ],
   "source": [
    "# visualize combined score with seaborn\n",
    "%matplotlib inline\n",
    "\n",
    "# set font size\n",
    "plt.rcParams.update({'font.size': 16})\n",
    "\n",
    "plot = sns.boxplot(x = 'routine', y = 'borda_score', hue='template', data=df_eval,\n",
    "                   palette='viridis')\n",
    "plot.set(xlabel = 'Routine')\n",
    "plot.set(ylabel = 'Combined Score')\n",
    "plot.figure.set_size_inches(10, 10)\n",
    "plot.legend(title = 'Template', loc = 'lower right', ncol = 2, fancybox = True)\n",
    "#plot.figure.savefig('tutorial7.png', dpi=300)"
   ]
  },
  {
   "cell_type": "markdown",
   "id": "15546c71-a853-4510-abfc-5522448b91ba",
   "metadata": {},
   "source": [
    "As expected, the routine which spends more time on model refinement (`Routine_automodel_slow`) produces on average better results. Also, there are interesting differences between the templates used."
   ]
  },
  {
   "cell_type": "markdown",
   "id": "4943843e-755e-41a6-a3e7-51ba2d9f0cb8",
   "metadata": {},
   "source": [
    "## Further Reading"
   ]
  },
  {
   "cell_type": "markdown",
   "id": "0cae963e-4f0e-4243-9e79-7848cfcecbb2",
   "metadata": {},
   "source": [
    "Congratulations on finishing the final tutorial about `homelette`. You might also be interested in the other tutorials:\n",
    "\n",
    "- **Tutorial 1**: Learn about the basics of `homelette`.\n",
    "- **Tutorial 2**: Learn more about already implemented routines for homology modelling.\n",
    "- **Tutorial 3**: Learn about the evaluation metrics available with `homelette`.\n",
    "- **Tutorial 4**: Learn about extending `homelette`'s functionality by defining your own modelling routines and evaluation metrics.\n",
    "- **Tutorial 5**: Learn about how to use parallelization in order to generate and evaluate models more efficiently.\n",
    "- **Tutorial 6**: Learn about modelling protein complexes."
   ]
  },
  {
   "cell_type": "markdown",
   "id": "20749543-1c11-473b-961e-14391866ef3f",
   "metadata": {},
   "source": [
    "## References\n",
    "\n",
    "[1] Šali, A., & Blundell, T. L. (1993). Comparative protein modelling by satisfaction of spatial restraints. Journal of Molecular Biology, 234(3), 779–815. https://doi.org/10.1006/jmbi.1993.1626\n",
    "\n",
    "[2] Webb, B., & Sali, A. (2016). Comparative Protein Structure Modeling Using MODELLER. Current Protocols in Bioinformatics, 54(1), 5.6.1-5.6.37. https://doi.org/10.1002/cpbi.3\n",
    "\n",
    "[3] Dong, G. Q., Fan, H., Schneidman-Duhovny, D., Webb, B., Sali, A., & Tramontano, A. (2013). Optimized atomic statistical potentials: Assessment of protein interfaces and loops. Bioinformatics, 29(24), 3158–3166. https://doi.org/10.1093/bioinformatics/btt560\n",
    "\n",
    "[4] Davis, I. W., Leaver-Fay, A., Chen, V. B., Block, J. N., Kapral, G. J., Wang, X., Murray, L. W., Arendall, W. B., Snoeyink, J., Richardson, J. S., & Richardson, D. C. (2007). MolProbity: all-atom contacts and structure validation for proteins and nucleic acids. Nucleic Acids Research, 35(suppl_2), W375–W383. https://doi.org/10.1093/NAR/GKM216\n",
    "\n",
    "[5] Chen, V. B., Arendall, W. B., Headd, J. J., Keedy, D. A., Immormino, R. M., Kapral, G. J., Murray, L. W., Richardson, J. S., & Richardson, D. C. (2010). MolProbity: All-atom structure validation for macromolecular crystallography. Acta Crystallographica Section D: Biological Crystallography, 66(1), 12–21. https://doi.org/10.1107/S0907444909042073\n",
    "\n",
    "[6] Williams, C. J., Headd, J. J., Moriarty, N. W., Prisant, M. G., Videau, L. L., Deis, L. N., Verma, V., Keedy, D. A., Hintze, B. J., Chen, V. B., Jain, S., Lewis, S. M., Arendall, W. B., Snoeyink, J., Adams, P. D., Lovell, S. C., Richardson, J. S., & Richardson, D. C. (2018). MolProbity: More and better reference data for improved all-atom structure validation. Protein Science, 27(1), 293–315. https://doi.org/10.1002/pro.3330\n"
   ]
  },
  {
   "cell_type": "markdown",
   "id": "56e76299-62eb-4336-ac32-31c728fb12ba",
   "metadata": {},
   "source": [
    "## Session Info"
   ]
  },
  {
   "cell_type": "code",
   "execution_count": 10,
   "id": "918c8aa4-70ed-4d5d-be8a-907083594630",
   "metadata": {},
   "outputs": [
    {
     "name": "stdout",
     "output_type": "stream",
     "text": [
      "-----\n",
      "homelette           1.0\n",
      "matplotlib          3.1.2\n",
      "pandas              0.25.3\n",
      "seaborn             0.11.2\n",
      "session_info        1.0.0\n",
      "-----\n",
      "PIL                         7.0.0\n",
      "altmod                      NA\n",
      "anyio                       NA\n",
      "attr                        19.3.0\n",
      "babel                       2.9.1\n",
      "backcall                    0.2.0\n",
      "certifi                     2021.05.30\n",
      "chardet                     3.0.4\n",
      "charset_normalizer          2.0.4\n",
      "cycler                      0.10.0\n",
      "cython_runtime              NA\n",
      "dateutil                    2.7.3\n",
      "debugpy                     1.4.1\n",
      "decorator                   4.4.2\n",
      "entrypoints                 0.3\n",
      "idna                        3.2\n",
      "ipykernel                   6.3.1\n",
      "ipython_genutils            0.2.0\n",
      "jedi                        0.18.0\n",
      "jinja2                      3.0.1\n",
      "json5                       NA\n",
      "jsonschema                  3.2.0\n",
      "jupyter_server              1.10.2\n",
      "jupyterlab_server           2.8.0\n",
      "kiwisolver                  1.0.1\n",
      "markupsafe                  2.0.1\n",
      "matplotlib_inline           NA\n",
      "modeller                    10.1\n",
      "mpl_toolkits                NA\n",
      "nbclassic                   NA\n",
      "nbformat                    5.1.3\n",
      "numexpr                     2.7.1\n",
      "numpy                       1.17.4\n",
      "ost                         2.2.0\n",
      "packaging                   20.3\n",
      "parso                       0.8.2\n",
      "pexpect                     4.8.0\n",
      "pickleshare                 0.7.5\n",
      "pkg_resources               NA\n",
      "prometheus_client           NA\n",
      "promod3                     3.2.0\n",
      "prompt_toolkit              3.0.20\n",
      "ptyprocess                  0.7.0\n",
      "pvectorc                    NA\n",
      "pydev_ipython               NA\n",
      "pydevconsole                NA\n",
      "pydevd                      2.4.1\n",
      "pydevd_concurrency_analyser NA\n",
      "pydevd_file_utils           NA\n",
      "pydevd_plugins              NA\n",
      "pydevd_tracing              NA\n",
      "pygments                    2.10.0\n",
      "pyparsing                   2.4.6\n",
      "pyrsistent                  NA\n",
      "pytz                        2019.3\n",
      "qmean                       NA\n",
      "requests                    2.26.0\n",
      "scipy                       1.3.3\n",
      "send2trash                  NA\n",
      "sitecustomize               NA\n",
      "six                         1.14.0\n",
      "sniffio                     1.2.0\n",
      "storemagic                  NA\n",
      "swig_runtime_data4          NA\n",
      "terminado                   0.12.1\n",
      "tornado                     6.1\n",
      "traitlets                   5.1.0\n",
      "urllib3                     1.26.6\n",
      "wcwidth                     NA\n",
      "websocket                   1.2.1\n",
      "zmq                         22.2.1\n",
      "-----\n",
      "IPython             7.27.0\n",
      "jupyter_client      7.0.2\n",
      "jupyter_core        4.7.1\n",
      "jupyterlab          3.1.10\n",
      "notebook            6.4.3\n",
      "-----\n",
      "Python 3.8.10 (default, Jun  2 2021, 10:49:15) [GCC 9.4.0]\n",
      "Linux-4.15.0-147-generic-x86_64-with-glibc2.29\n",
      "-----\n",
      "Session information updated at 2021-09-07 16:21\n"
     ]
    }
   ],
   "source": [
    "# session info\n",
    "import session_info\n",
    "session_info.show(html = False, dependencies = True)"
   ]
  }
 ],
 "metadata": {
  "kernelspec": {
   "display_name": "Python 3 (ipykernel)",
   "language": "python",
   "name": "python3"
  },
  "language_info": {
   "codemirror_mode": {
    "name": "ipython",
    "version": 3
   },
   "file_extension": ".py",
   "mimetype": "text/x-python",
   "name": "python",
   "nbconvert_exporter": "python",
   "pygments_lexer": "ipython3",
   "version": "3.8.10"
  }
 },
 "nbformat": 4,
 "nbformat_minor": 5
}
