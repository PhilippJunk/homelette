{
 "cells": [
  {
   "cell_type": "markdown",
   "id": "efc43fce-98db-46de-9b6b-31819c60a57c",
   "metadata": {},
   "source": [
    "# Tutorial 7: Assembling custom pipelines"
   ]
  },
  {
   "cell_type": "code",
   "execution_count": 1,
   "id": "58b72618-24c8-4d91-b7bb-4eee33deef60",
   "metadata": {},
   "outputs": [],
   "source": [
    "import homelette as hm\n",
    "\n",
    "import matplotlib as plt\n",
    "import seaborn as sns"
   ]
  },
  {
   "cell_type": "markdown",
   "id": "28373702-11c8-4d3c-9eab-1bdffe7de887",
   "metadata": {},
   "source": [
    "## Introduction\n",
    "\n",
    "Welcome to the final tutorial on `homelette`. This tutorial is about combining what we learnt in the previous tutorials about model generating and model evaluating building blocks.\n",
    "\n",
    "The strength of `homelette` lies in its ability to *A)* be almost freely extendable by the user (see **Tutorial 4**) and *B)* in the ease with which pre-defined or custom-made building blocks for model generation and evaluation can be assembled into custom pipelines. This tutorial showcases *B)*.\n",
    "\n",
    "For our target sequence, ARAF, we will identify templates and generate alignments with the `AlignmentGenerator_pdb` building block [1,2,3,4]. We will select two templates, BRAF ([3NY5](https://www.rcsb.org/structure/3NY5)) and RAF1 ([4G0N](https://www.rcsb.org/structure/4G0N)). We will build models for ARAF with two different routines, `Routine_automodel_default` and `Routine_automodel_slow` [5,6], and from the different templates. The generated models will be evaluated by SOAP scores and MolProbity and a combined score will be calculated using Borda Count [7,8,9,10]. "
   ]
  },
  {
   "cell_type": "markdown",
   "id": "09d48f41-955a-4297-a90c-6fa429980253",
   "metadata": {},
   "source": [
    "## Alignment\n",
    "\n",
    "Consistent with the other tutorials, we will be modelling the protein ARAF. For this tutorial, we will use the `AlignmentGenerator_pdb` in order to search for templates, create an alignment, and process both the templates as well as the alignment:\n"
   ]
  },
  {
   "cell_type": "code",
   "execution_count": 2,
   "id": "2a027f58-5ae9-458f-95a7-ae072391b528",
   "metadata": {},
   "outputs": [],
   "source": [
    "gen = hm.alignment.AlignmentGenerator_pdb.from_fasta('data/alignments/ARAF.fa')"
   ]
  },
  {
   "cell_type": "code",
   "execution_count": 3,
   "id": "907549b2-e4c8-499c-a7b3-b6a142cf4876",
   "metadata": {},
   "outputs": [
    {
     "name": "stdout",
     "output_type": "stream",
     "text": [
      "Querying PDB...\n",
      "Query successful, 16 found!\n",
      "\n",
      "Retrieving sequences...\n",
      "Sequences succefully retrieved!\n",
      "\n",
      "Generating alignment...\n",
      "Alignment generated!\n",
      "\n",
      "Query successful.\n",
      "17 sequences have been found.\n"
     ]
    },
    {
     "data": {
      "text/html": [
       "<div>\n",
       "<style scoped>\n",
       "    .dataframe tbody tr th:only-of-type {\n",
       "        vertical-align: middle;\n",
       "    }\n",
       "\n",
       "    .dataframe tbody tr th {\n",
       "        vertical-align: top;\n",
       "    }\n",
       "\n",
       "    .dataframe thead th {\n",
       "        text-align: right;\n",
       "    }\n",
       "</style>\n",
       "<table border=\"1\" class=\"dataframe\">\n",
       "  <thead>\n",
       "    <tr style=\"text-align: right;\">\n",
       "      <th></th>\n",
       "      <th>template</th>\n",
       "      <th>coverage</th>\n",
       "      <th>identity</th>\n",
       "    </tr>\n",
       "  </thead>\n",
       "  <tbody>\n",
       "    <tr>\n",
       "      <th>0</th>\n",
       "      <td>6XI7_2</td>\n",
       "      <td>100.0</td>\n",
       "      <td>60.27</td>\n",
       "    </tr>\n",
       "    <tr>\n",
       "      <th>1</th>\n",
       "      <td>6XGU_2</td>\n",
       "      <td>100.0</td>\n",
       "      <td>60.27</td>\n",
       "    </tr>\n",
       "    <tr>\n",
       "      <th>2</th>\n",
       "      <td>6XGV_2</td>\n",
       "      <td>100.0</td>\n",
       "      <td>60.27</td>\n",
       "    </tr>\n",
       "    <tr>\n",
       "      <th>3</th>\n",
       "      <td>1GUA_2</td>\n",
       "      <td>100.0</td>\n",
       "      <td>60.27</td>\n",
       "    </tr>\n",
       "    <tr>\n",
       "      <th>4</th>\n",
       "      <td>4G0N_2</td>\n",
       "      <td>100.0</td>\n",
       "      <td>60.27</td>\n",
       "    </tr>\n",
       "    <tr>\n",
       "      <th>5</th>\n",
       "      <td>6VJJ_2</td>\n",
       "      <td>100.0</td>\n",
       "      <td>60.27</td>\n",
       "    </tr>\n",
       "    <tr>\n",
       "      <th>6</th>\n",
       "      <td>6XHA_2</td>\n",
       "      <td>100.0</td>\n",
       "      <td>60.27</td>\n",
       "    </tr>\n",
       "    <tr>\n",
       "      <th>7</th>\n",
       "      <td>6XHB_2</td>\n",
       "      <td>100.0</td>\n",
       "      <td>60.27</td>\n",
       "    </tr>\n",
       "    <tr>\n",
       "      <th>8</th>\n",
       "      <td>1C1Y_2</td>\n",
       "      <td>100.0</td>\n",
       "      <td>60.27</td>\n",
       "    </tr>\n",
       "    <tr>\n",
       "      <th>9</th>\n",
       "      <td>7JHP_2</td>\n",
       "      <td>100.0</td>\n",
       "      <td>60.27</td>\n",
       "    </tr>\n",
       "    <tr>\n",
       "      <th>15</th>\n",
       "      <td>4G3X_2</td>\n",
       "      <td>100.0</td>\n",
       "      <td>60.27</td>\n",
       "    </tr>\n",
       "    <tr>\n",
       "      <th>10</th>\n",
       "      <td>3KUC_2</td>\n",
       "      <td>100.0</td>\n",
       "      <td>58.90</td>\n",
       "    </tr>\n",
       "    <tr>\n",
       "      <th>11</th>\n",
       "      <td>3KUD_2</td>\n",
       "      <td>100.0</td>\n",
       "      <td>58.90</td>\n",
       "    </tr>\n",
       "    <tr>\n",
       "      <th>14</th>\n",
       "      <td>3NY5_1</td>\n",
       "      <td>100.0</td>\n",
       "      <td>58.90</td>\n",
       "    </tr>\n",
       "    <tr>\n",
       "      <th>12</th>\n",
       "      <td>6NTD_2</td>\n",
       "      <td>100.0</td>\n",
       "      <td>53.42</td>\n",
       "    </tr>\n",
       "    <tr>\n",
       "      <th>13</th>\n",
       "      <td>6NTC_2</td>\n",
       "      <td>100.0</td>\n",
       "      <td>52.05</td>\n",
       "    </tr>\n",
       "  </tbody>\n",
       "</table>\n",
       "</div>"
      ],
      "text/plain": [
       "   template  coverage  identity\n",
       "0    6XI7_2     100.0     60.27\n",
       "1    6XGU_2     100.0     60.27\n",
       "2    6XGV_2     100.0     60.27\n",
       "3    1GUA_2     100.0     60.27\n",
       "4    4G0N_2     100.0     60.27\n",
       "5    6VJJ_2     100.0     60.27\n",
       "6    6XHA_2     100.0     60.27\n",
       "7    6XHB_2     100.0     60.27\n",
       "8    1C1Y_2     100.0     60.27\n",
       "9    7JHP_2     100.0     60.27\n",
       "15   4G3X_2     100.0     60.27\n",
       "10   3KUC_2     100.0     58.90\n",
       "11   3KUD_2     100.0     58.90\n",
       "14   3NY5_1     100.0     58.90\n",
       "12   6NTD_2     100.0     53.42\n",
       "13   6NTC_2     100.0     52.05"
      ]
     },
     "execution_count": 3,
     "metadata": {},
     "output_type": "execute_result"
    }
   ],
   "source": [
    "# search for templates and generate first alignment\n",
    "gen.get_suggestion()\n",
    "gen.show_suggestion()"
   ]
  },
  {
   "cell_type": "markdown",
   "id": "e074cd2c-f850-415c-a2eb-741f554ab2e8",
   "metadata": {},
   "source": [
    "For this example, we will choose one template of BRAF (3NY5) and one template from RAF1 (4G0N):"
   ]
  },
  {
   "cell_type": "code",
   "execution_count": 4,
   "id": "58babe63-7a28-4c19-befa-d70a41a6f9bc",
   "metadata": {},
   "outputs": [
    {
     "name": "stdout",
     "output_type": "stream",
     "text": [
      "ARAF        -------------GTVKVYLPNKQRTVVTVRDGMSVYDSLDKALKVRGLNQDCCVVYRLI---KGRKTVT\n",
      "3NY5_1      MGHHHHHHSHMQKPIVRVFLPNKQRTVVPARCGVTVRDSLKKALMMRGLIPECCAVYRIQ---DGEKKPI\n",
      "4G0N_2      -----------TSNTIRVFLPNKQRTVVNVRNGMSLHDCLMKALKVRGLQPECCAVFRLLHEHKGKKARL\n",
      "\n",
      "\n",
      "ARAF        AWDTAIAPLDGEELIVEVL----------\n",
      "3NY5_1      GWDTDISWLTGEELHVEVLENVPLTTHNF\n",
      "4G0N_2      DWNTDAASLIGEELQVDFL----------\n",
      "\n",
      "\n"
     ]
    }
   ],
   "source": [
    "# select templates and show alignment\n",
    "gen.select_templates(['3NY5_1', '4G0N_2'])\n",
    "gen.alignment.print_clustal(70)"
   ]
  },
  {
   "cell_type": "markdown",
   "id": "4cbe6c1a-7175-4fcf-b496-37de620b52fe",
   "metadata": {},
   "source": [
    "Next, we download the template structures and process both the alignment and the structures:"
   ]
  },
  {
   "cell_type": "code",
   "execution_count": 5,
   "id": "aa75c216-845e-4ba6-8e24-686db1bbe508",
   "metadata": {},
   "outputs": [
    {
     "name": "stdout",
     "output_type": "stream",
     "text": [
      "Guessing template naming format...\n",
      "Template naming format guessed: polymer_entity!\n",
      "\n",
      "Checking template dir...\n",
      "Template dir found!\n",
      "\n",
      "Processing templates:\n",
      "\n",
      "3NY5 downloading from PDB...\n",
      "3NY5 downloaded!\n",
      "3NY5_A: Chain extracted!\n",
      "3NY5_A: Alignment updated!\n",
      "3NY5_A: PDB processed!\n",
      "3NY5_B: Chain extracted!\n",
      "3NY5_B: Alignment updated!\n",
      "3NY5_B: PDB processed!\n",
      "3NY5_C: Chain extracted!\n",
      "3NY5_C: Alignment updated!\n",
      "3NY5_C: PDB processed!\n",
      "3NY5_D: Chain extracted!\n",
      "3NY5_D: Alignment updated!\n",
      "3NY5_D: PDB processed!\n",
      "4G0N downloading from PDB...\n",
      "4G0N downloaded!\n",
      "4G0N_B: Chain extracted!\n",
      "4G0N_B: Alignment updated!\n",
      "4G0N_B: PDB processed!\n",
      "\n",
      "Finishing... All templates successfully\n",
      "downloaded and processed!\n",
      "Templates can be found in\n",
      "\"/home/templates\".\n"
     ]
    },
    {
     "data": {
      "text/html": [
       "<div>\n",
       "<style scoped>\n",
       "    .dataframe tbody tr th:only-of-type {\n",
       "        vertical-align: middle;\n",
       "    }\n",
       "\n",
       "    .dataframe tbody tr th {\n",
       "        vertical-align: top;\n",
       "    }\n",
       "\n",
       "    .dataframe thead th {\n",
       "        text-align: right;\n",
       "    }\n",
       "</style>\n",
       "<table border=\"1\" class=\"dataframe\">\n",
       "  <thead>\n",
       "    <tr style=\"text-align: right;\">\n",
       "      <th></th>\n",
       "      <th>template</th>\n",
       "      <th>coverage</th>\n",
       "      <th>identity</th>\n",
       "    </tr>\n",
       "  </thead>\n",
       "  <tbody>\n",
       "    <tr>\n",
       "      <th>4</th>\n",
       "      <td>4G0N_B</td>\n",
       "      <td>100.00</td>\n",
       "      <td>60.27</td>\n",
       "    </tr>\n",
       "    <tr>\n",
       "      <th>1</th>\n",
       "      <td>3NY5_B</td>\n",
       "      <td>94.52</td>\n",
       "      <td>57.53</td>\n",
       "    </tr>\n",
       "    <tr>\n",
       "      <th>0</th>\n",
       "      <td>3NY5_A</td>\n",
       "      <td>93.15</td>\n",
       "      <td>57.53</td>\n",
       "    </tr>\n",
       "    <tr>\n",
       "      <th>2</th>\n",
       "      <td>3NY5_C</td>\n",
       "      <td>93.15</td>\n",
       "      <td>57.53</td>\n",
       "    </tr>\n",
       "    <tr>\n",
       "      <th>3</th>\n",
       "      <td>3NY5_D</td>\n",
       "      <td>91.78</td>\n",
       "      <td>57.53</td>\n",
       "    </tr>\n",
       "  </tbody>\n",
       "</table>\n",
       "</div>"
      ],
      "text/plain": [
       "  template  coverage  identity\n",
       "4   4G0N_B    100.00     60.27\n",
       "1   3NY5_B     94.52     57.53\n",
       "0   3NY5_A     93.15     57.53\n",
       "2   3NY5_C     93.15     57.53\n",
       "3   3NY5_D     91.78     57.53"
      ]
     },
     "execution_count": 5,
     "metadata": {},
     "output_type": "execute_result"
    }
   ],
   "source": [
    "# download structures, process alignment and structures\n",
    "gen.get_pdbs()\n",
    "gen.show_suggestion()"
   ]
  },
  {
   "cell_type": "markdown",
   "id": "ed3cfb48-faa4-4082-9c69-d716ddd8d9db",
   "metadata": {},
   "source": [
    "We can see that there are multiple chains of 3NY5 that fit our alignment. One of the chains has less missing residues than the other ones, so we are choosing this one:"
   ]
  },
  {
   "cell_type": "code",
   "execution_count": 6,
   "id": "6d497d06-118d-4998-bece-7facc4a1491b",
   "metadata": {},
   "outputs": [
    {
     "name": "stdout",
     "output_type": "stream",
     "text": [
      "ARAF        ----GTVKVYLPNKQRTVVTVRDGMSVYDSLDKALKVRGLNQDCCVVYRLI---KGRKTVTAWDTAIAPL\n",
      "4G0N_B      --TSNTIRVFLPNKQRTVVNVRNGMSLHDCLMKALKVRGLQPECCAVFRLLHEHKGKKARLDWNTDAASL\n",
      "3NY5_B      SHQKPIVRVFLPNKQRTVVPARCGVTVRDSLKKAL--RGLIPECCAVYRIQ-----EKKPIGWDTDISWL\n",
      "\n",
      "\n",
      "ARAF        DGEELIVEVL--------\n",
      "4G0N_B      IGEELQVDFL--------\n",
      "3NY5_B      TGEELHVEVLENVPLTTH\n",
      "\n",
      "\n"
     ]
    },
    {
     "data": {
      "text/html": [
       "<div>\n",
       "<style scoped>\n",
       "    .dataframe tbody tr th:only-of-type {\n",
       "        vertical-align: middle;\n",
       "    }\n",
       "\n",
       "    .dataframe tbody tr th {\n",
       "        vertical-align: top;\n",
       "    }\n",
       "\n",
       "    .dataframe thead th {\n",
       "        text-align: right;\n",
       "    }\n",
       "</style>\n",
       "<table border=\"1\" class=\"dataframe\">\n",
       "  <thead>\n",
       "    <tr style=\"text-align: right;\">\n",
       "      <th></th>\n",
       "      <th>template</th>\n",
       "      <th>coverage</th>\n",
       "      <th>identity</th>\n",
       "    </tr>\n",
       "  </thead>\n",
       "  <tbody>\n",
       "    <tr>\n",
       "      <th>0</th>\n",
       "      <td>4G0N_B</td>\n",
       "      <td>100.00</td>\n",
       "      <td>60.27</td>\n",
       "    </tr>\n",
       "    <tr>\n",
       "      <th>1</th>\n",
       "      <td>3NY5_B</td>\n",
       "      <td>94.52</td>\n",
       "      <td>57.53</td>\n",
       "    </tr>\n",
       "  </tbody>\n",
       "</table>\n",
       "</div>"
      ],
      "text/plain": [
       "  template  coverage  identity\n",
       "0   4G0N_B    100.00     60.27\n",
       "1   3NY5_B     94.52     57.53"
      ]
     },
     "execution_count": 6,
     "metadata": {},
     "output_type": "execute_result"
    }
   ],
   "source": [
    "# select templates\n",
    "gen.select_templates(['4G0N_B', '3NY5_B'])\n",
    "gen.alignment.print_clustal(70)\n",
    "gen.show_suggestion()"
   ]
  },
  {
   "cell_type": "markdown",
   "id": "12a29587-a948-493c-80f5-2f68689c0d09",
   "metadata": {},
   "source": [
    "Now that we have our templates prepared and aligned, we can now define a custom `Task` object in order to assemble `homelette` building blocks into a pipeline:"
   ]
  },
  {
   "cell_type": "markdown",
   "id": "c9505d84-162e-4faf-aea4-453ea058b282",
   "metadata": {},
   "source": [
    "## Custom pipeline"
   ]
  },
  {
   "cell_type": "markdown",
   "id": "ba99629c-a132-42a3-893f-a27a386d796e",
   "metadata": {},
   "source": [
    "The easiest way to formulate custom pipelines by assembling the `homelette` building blocks of model building and evaluation is to construct custom `Task` objects:"
   ]
  },
  {
   "cell_type": "code",
   "execution_count": 7,
   "id": "cd951670-da51-4d6a-9336-769eecf1ea75",
   "metadata": {},
   "outputs": [],
   "source": [
    "class CustomPipeline(hm.Task):\n",
    "    '''\n",
    "    Example for a cumstom pipeline\n",
    "    '''\n",
    "    def model_generation(self, templates):\n",
    "        # model generation with automodel_default\n",
    "        self.execute_routine(tag='automodel_def_' + '-'.join(templates),\n",
    "                             routine = hm.routines.Routine_automodel_default,\n",
    "                             templates = templates,\n",
    "                             template_location = './templates/',\n",
    "                             n_models = 20,\n",
    "                             n_threads = 5)\n",
    "        # model generation with autmodel_slow\n",
    "        self.execute_routine(tag='autmodel_slow_' + '-'.join(templates),\n",
    "                             routine = hm.routines.Routine_automodel_slow,\n",
    "                             templates = templates,\n",
    "                             template_location = './templates/',\n",
    "                             n_models = 20,\n",
    "                             n_threads = 5)\n",
    "        \n",
    "    def model_evaluation(self):\n",
    "        # perform evaluation\n",
    "        self.evaluate_models(hm.evaluation.Evaluation_mol_probity,\n",
    "                             n_threads=5)\n",
    "        self.evaluate_models(hm.evaluation.Evaluation_soap_protein)\n",
    "        ev = self.get_evaluation()\n",
    "        # borda count for best models\n",
    "        ev['points_soap'] = ev.shape[0] - ev['soap_protein'].rank()\n",
    "        ev['points_mol_probity'] = ev.shape[0] - ev['mp_score'].rank()\n",
    "        ev['borda_score'] = ev['points_soap'] + ev['points_mol_probity']\n",
    "        ev['borda_rank'] = ev['borda_score'].rank(ascending=False)\n",
    "        ev = ev.drop(labels=['points_soap', 'points_mol_probity'], axis=1)\n",
    "        return ev"
   ]
  },
  {
   "cell_type": "markdown",
   "id": "256276e6-6d8a-4bda-9b93-4f93c26a4f94",
   "metadata": {},
   "source": [
    "We have constructed a custom `Task` object (more specifically, a custom objects that inherits all methods and attributes from `Task`) and added two more functions: `model_generation` and `model_evaluation`.\n",
    "\n",
    "In `CustomPipeline.model_generation` we are using two routines (`Routine_automodel_default` and `Routine_automodel_slow`) to generate 20 models each. In `CustomPipeline.model_generation` we evaluate the models using `Evaluation_mol_probity` and `Evaluation_soap_protein` and then rank the generated models based on both evaluation metrics using Borda Count.\n",
    "\n",
    "After constructing our pipeline, let's execute it with two different templates as an example:"
   ]
  },
  {
   "cell_type": "markdown",
   "id": "c2467046-9f3e-4efd-a174-2b9d59c717a8",
   "metadata": {},
   "source": [
    "After having a custom `Task` object defined, we can initialize it from the `AlignmentGenerator` in order to do the modelling and evaluation:"
   ]
  },
  {
   "cell_type": "code",
   "execution_count": 8,
   "id": "dcde092f-0850-4e73-b52f-a8325f337241",
   "metadata": {},
   "outputs": [],
   "source": [
    "# initialize task from alignment generator\n",
    "t = gen.initialize_task(\n",
    "    task_name = 'Tutorial7', \n",
    "    overwrite = True, \n",
    "    task_class = CustomPipeline)"
   ]
  },
  {
   "cell_type": "code",
   "execution_count": 9,
   "id": "aa722d96-873a-4410-a1d9-3456176e7e8b",
   "metadata": {},
   "outputs": [],
   "source": [
    "# execute pipeline for different templates\n",
    "t.model_generation(['3NY5_B'])\n",
    "t.model_generation(['4G0N_B'])\n",
    "\n",
    "df_eval = t.model_evaluation()"
   ]
  },
  {
   "cell_type": "markdown",
   "id": "3489aaa4-9eba-462d-9a1a-0fee0434f155",
   "metadata": {},
   "source": [
    "We have successfully generated and evaluated 80 models."
   ]
  },
  {
   "cell_type": "code",
   "execution_count": 10,
   "id": "951af432-b2c9-45c8-a693-bd23ef9a0dd6",
   "metadata": {
    "tags": []
   },
   "outputs": [],
   "source": [
    "# get template from tag\n",
    "df_eval['template'] = df_eval['tag'].str.contains('3NY5').map({True: '3NY5', False: '4G0N'})"
   ]
  },
  {
   "cell_type": "code",
   "execution_count": 11,
   "id": "61362437-44e6-4fc6-9537-a31a235eb497",
   "metadata": {},
   "outputs": [
    {
     "data": {
      "text/html": [
       "<div>\n",
       "<style scoped>\n",
       "    .dataframe tbody tr th:only-of-type {\n",
       "        vertical-align: middle;\n",
       "    }\n",
       "\n",
       "    .dataframe tbody tr th {\n",
       "        vertical-align: top;\n",
       "    }\n",
       "\n",
       "    .dataframe thead th {\n",
       "        text-align: right;\n",
       "    }\n",
       "</style>\n",
       "<table border=\"1\" class=\"dataframe\">\n",
       "  <thead>\n",
       "    <tr style=\"text-align: right;\">\n",
       "      <th></th>\n",
       "      <th>model</th>\n",
       "      <th>tag</th>\n",
       "      <th>routine</th>\n",
       "      <th>mp_score</th>\n",
       "      <th>soap_protein</th>\n",
       "      <th>borda_score</th>\n",
       "      <th>borda_rank</th>\n",
       "      <th>template</th>\n",
       "    </tr>\n",
       "  </thead>\n",
       "  <tbody>\n",
       "    <tr>\n",
       "      <th>64</th>\n",
       "      <td>autmodel_slow_4G0N_B_5.pdb</td>\n",
       "      <td>autmodel_slow_4G0N_B</td>\n",
       "      <td>automodel_slow</td>\n",
       "      <td>2.21</td>\n",
       "      <td>-45545.746094</td>\n",
       "      <td>149.5</td>\n",
       "      <td>1.0</td>\n",
       "      <td>4G0N</td>\n",
       "    </tr>\n",
       "    <tr>\n",
       "      <th>77</th>\n",
       "      <td>autmodel_slow_4G0N_B_18.pdb</td>\n",
       "      <td>autmodel_slow_4G0N_B</td>\n",
       "      <td>automodel_slow</td>\n",
       "      <td>2.17</td>\n",
       "      <td>-45043.023438</td>\n",
       "      <td>143.0</td>\n",
       "      <td>2.0</td>\n",
       "      <td>4G0N</td>\n",
       "    </tr>\n",
       "    <tr>\n",
       "      <th>38</th>\n",
       "      <td>autmodel_slow_3NY5_B_19.pdb</td>\n",
       "      <td>autmodel_slow_3NY5_B</td>\n",
       "      <td>automodel_slow</td>\n",
       "      <td>2.42</td>\n",
       "      <td>-48808.035156</td>\n",
       "      <td>141.0</td>\n",
       "      <td>3.0</td>\n",
       "      <td>3NY5</td>\n",
       "    </tr>\n",
       "    <tr>\n",
       "      <th>69</th>\n",
       "      <td>autmodel_slow_4G0N_B_10.pdb</td>\n",
       "      <td>autmodel_slow_4G0N_B</td>\n",
       "      <td>automodel_slow</td>\n",
       "      <td>2.30</td>\n",
       "      <td>-45205.257812</td>\n",
       "      <td>138.0</td>\n",
       "      <td>4.0</td>\n",
       "      <td>4G0N</td>\n",
       "    </tr>\n",
       "    <tr>\n",
       "      <th>63</th>\n",
       "      <td>autmodel_slow_4G0N_B_4.pdb</td>\n",
       "      <td>autmodel_slow_4G0N_B</td>\n",
       "      <td>automodel_slow</td>\n",
       "      <td>2.26</td>\n",
       "      <td>-44921.707031</td>\n",
       "      <td>135.0</td>\n",
       "      <td>5.0</td>\n",
       "      <td>4G0N</td>\n",
       "    </tr>\n",
       "    <tr>\n",
       "      <th>79</th>\n",
       "      <td>autmodel_slow_4G0N_B_20.pdb</td>\n",
       "      <td>autmodel_slow_4G0N_B</td>\n",
       "      <td>automodel_slow</td>\n",
       "      <td>2.24</td>\n",
       "      <td>-44585.621094</td>\n",
       "      <td>131.5</td>\n",
       "      <td>6.0</td>\n",
       "      <td>4G0N</td>\n",
       "    </tr>\n",
       "    <tr>\n",
       "      <th>72</th>\n",
       "      <td>autmodel_slow_4G0N_B_13.pdb</td>\n",
       "      <td>autmodel_slow_4G0N_B</td>\n",
       "      <td>automodel_slow</td>\n",
       "      <td>2.21</td>\n",
       "      <td>-44206.707031</td>\n",
       "      <td>128.5</td>\n",
       "      <td>7.0</td>\n",
       "      <td>4G0N</td>\n",
       "    </tr>\n",
       "    <tr>\n",
       "      <th>49</th>\n",
       "      <td>automodel_def_4G0N_B_10.pdb</td>\n",
       "      <td>automodel_def_4G0N_B</td>\n",
       "      <td>automodel_default</td>\n",
       "      <td>2.47</td>\n",
       "      <td>-45311.910156</td>\n",
       "      <td>125.0</td>\n",
       "      <td>8.5</td>\n",
       "      <td>4G0N</td>\n",
       "    </tr>\n",
       "    <tr>\n",
       "      <th>73</th>\n",
       "      <td>autmodel_slow_4G0N_B_14.pdb</td>\n",
       "      <td>autmodel_slow_4G0N_B</td>\n",
       "      <td>automodel_slow</td>\n",
       "      <td>2.40</td>\n",
       "      <td>-44919.792969</td>\n",
       "      <td>125.0</td>\n",
       "      <td>8.5</td>\n",
       "      <td>4G0N</td>\n",
       "    </tr>\n",
       "    <tr>\n",
       "      <th>34</th>\n",
       "      <td>autmodel_slow_3NY5_B_15.pdb</td>\n",
       "      <td>autmodel_slow_3NY5_B</td>\n",
       "      <td>automodel_slow</td>\n",
       "      <td>2.34</td>\n",
       "      <td>-44530.144531</td>\n",
       "      <td>124.0</td>\n",
       "      <td>10.0</td>\n",
       "      <td>3NY5</td>\n",
       "    </tr>\n",
       "  </tbody>\n",
       "</table>\n",
       "</div>"
      ],
      "text/plain": [
       "                          model                   tag            routine  \\\n",
       "64   autmodel_slow_4G0N_B_5.pdb  autmodel_slow_4G0N_B     automodel_slow   \n",
       "77  autmodel_slow_4G0N_B_18.pdb  autmodel_slow_4G0N_B     automodel_slow   \n",
       "38  autmodel_slow_3NY5_B_19.pdb  autmodel_slow_3NY5_B     automodel_slow   \n",
       "69  autmodel_slow_4G0N_B_10.pdb  autmodel_slow_4G0N_B     automodel_slow   \n",
       "63   autmodel_slow_4G0N_B_4.pdb  autmodel_slow_4G0N_B     automodel_slow   \n",
       "79  autmodel_slow_4G0N_B_20.pdb  autmodel_slow_4G0N_B     automodel_slow   \n",
       "72  autmodel_slow_4G0N_B_13.pdb  autmodel_slow_4G0N_B     automodel_slow   \n",
       "49  automodel_def_4G0N_B_10.pdb  automodel_def_4G0N_B  automodel_default   \n",
       "73  autmodel_slow_4G0N_B_14.pdb  autmodel_slow_4G0N_B     automodel_slow   \n",
       "34  autmodel_slow_3NY5_B_15.pdb  autmodel_slow_3NY5_B     automodel_slow   \n",
       "\n",
       "    mp_score  soap_protein  borda_score  borda_rank template  \n",
       "64      2.21 -45545.746094        149.5         1.0     4G0N  \n",
       "77      2.17 -45043.023438        143.0         2.0     4G0N  \n",
       "38      2.42 -48808.035156        141.0         3.0     3NY5  \n",
       "69      2.30 -45205.257812        138.0         4.0     4G0N  \n",
       "63      2.26 -44921.707031        135.0         5.0     4G0N  \n",
       "79      2.24 -44585.621094        131.5         6.0     4G0N  \n",
       "72      2.21 -44206.707031        128.5         7.0     4G0N  \n",
       "49      2.47 -45311.910156        125.0         8.5     4G0N  \n",
       "73      2.40 -44919.792969        125.0         8.5     4G0N  \n",
       "34      2.34 -44530.144531        124.0        10.0     3NY5  "
      ]
     },
     "execution_count": 11,
     "metadata": {},
     "output_type": "execute_result"
    }
   ],
   "source": [
    "df_eval.sort_values(by = 'borda_rank').head(10)"
   ]
  },
  {
   "cell_type": "markdown",
   "id": "e0d67d8f-e807-4147-8f55-af7f1bdccebd",
   "metadata": {},
   "source": [
    "We can see that most of the best 10 models were generated with the slower routine `Routine_autmodel_slow`. This is to be expected, as this routine spends more time on model refinement and should therefore produce \"better\" models.\n",
    "\n",
    "Next, we visualize the results of our evaluation with `seaborn`."
   ]
  },
  {
   "cell_type": "markdown",
   "id": "8fc9c43d-621e-44f5-8769-1fe4598484d5",
   "metadata": {},
   "source": [
    "## Visualization"
   ]
  },
  {
   "cell_type": "code",
   "execution_count": 12,
   "id": "c723725e-1fd4-49c3-9e89-878f42a724bc",
   "metadata": {},
   "outputs": [
    {
     "data": {
      "image/png": "[encoded data removed]",
      "text/plain": [
       "<Figure size 720x720 with 1 Axes>"
      ]
     },
     "metadata": {
      "needs_background": "light"
     },
     "output_type": "display_data"
    }
   ],
   "source": [
    "# visualize combined score with seaborn\n",
    "%matplotlib inline\n",
    "\n",
    "# set font size\n",
    "plt.rcParams.update({'font.size': 16})\n",
    "\n",
    "plot = sns.boxplot(x = 'routine', y = 'borda_score', hue='template', data=df_eval,\n",
    "                   palette='viridis')\n",
    "plot.set(xlabel = 'Routine')\n",
    "plot.set(ylabel = 'Combined Score')\n",
    "plot.figure.set_size_inches(10, 10)\n",
    "plot.legend(title = 'Template', loc = 'lower right', ncol = 2, fancybox = True)\n",
    "#plot.figure.savefig('tutorial7.png', dpi=300)"
   ]
  },
  {
   "cell_type": "markdown",
   "id": "15546c71-a853-4510-abfc-5522448b91ba",
   "metadata": {},
   "source": [
    "As expected, the routine which spends more time on model refinement (`Routine_automodel_slow`) produces on average better results. Also, there are interesting differences between the templates used."
   ]
  },
  {
   "cell_type": "markdown",
   "id": "4943843e-755e-41a6-a3e7-51ba2d9f0cb8",
   "metadata": {},
   "source": [
    "## Further Reading"
   ]
  },
  {
   "cell_type": "markdown",
   "id": "0cae963e-4f0e-4243-9e79-7848cfcecbb2",
   "metadata": {},
   "source": [
    "Congratulations on finishing the final tutorial about `homelette`. You might also be interested in the other tutorials:\n",
    "\n",
    "- **Tutorial 1**: Learn about the basics of `homelette`.\n",
    "- **Tutorial 2**: Learn more about already implemented routines for homology modelling.\n",
    "- **Tutorial 3**: Learn about the evaluation metrics available with `homelette`.\n",
    "- **Tutorial 4**: Learn about extending `homelette`'s functionality by defining your own modelling routines and evaluation metrics.\n",
    "- **Tutorial 5**: Learn about how to use parallelization in order to generate and evaluate models more efficiently.\n",
    "- **Tutorial 6**: Learn about modelling protein complexes.\n",
    "- **Tutorial 8**: Learn about automated template identification, alignment generation and template processing."
   ]
  },
  {
   "cell_type": "markdown",
   "id": "20749543-1c11-473b-961e-14391866ef3f",
   "metadata": {},
   "source": [
    "## References\n",
    "\n",
    "[1] Rose, Y., Duarte, J. M., Lowe, R., Segura, J., Bi, C., Bhikadiya, C., Chen, L., Rose, A. S., Bittrich, S., Burley, S. K., & Westbrook, J. D. (2021). RCSB Protein Data Bank: Architectural Advances Towards Integrated Searching and Efficient Access to Macromolecular Structure Data from the PDB Archive. Journal of Molecular Biology, 433(11), 166704. https://doi.org/10.1016/J.JMB.2020.11.003\n",
    "\n",
    "[2] Steinegger, M., & Söding, J. (2017). MMseqs2 enables sensitive protein sequence searching for the analysis of massive data sets. Nature Biotechnology 2017 35:11, 35(11), 1026–1028. https://doi.org/10.1038/nbt.3988\n",
    "\n",
    "[3] Sievers, F., Wilm, A., Dineen, D., Gibson, T. J., Karplus, K., Li, W., Lopez, R., McWilliam, H., Remmert, M., Söding, J., Thompson, J. D., & Higgins, D. G. (2011). Fast, scalable generation of high-quality protein multiple sequence alignments using Clustal Omega. Molecular Systems Biology, 7(1), 539. https://doi.org/10.1038/MSB.2011.75\n",
    "\n",
    "[4] Sievers, F., & Higgins, D. G. (2018). Clustal Omega for making accurate alignments of many protein sequences. Protein Science, 27(1), 135–145. https://doi.org/10.1002/PRO.3290\n",
    "\n",
    "[5] Šali, A., & Blundell, T. L. (1993). Comparative protein modelling by satisfaction of spatial restraints. Journal of Molecular Biology, 234(3), 779–815. https://doi.org/10.1006/jmbi.1993.1626\n",
    "\n",
    "[6] Webb, B., & Sali, A. (2016). Comparative Protein Structure Modeling Using MODELLER. Current Protocols in Bioinformatics, 54(1), 5.6.1-5.6.37. https://doi.org/10.1002/cpbi.3\n",
    "\n",
    "[7] Dong, G. Q., Fan, H., Schneidman-Duhovny, D., Webb, B., Sali, A., & Tramontano, A. (2013). Optimized atomic statistical potentials: Assessment of protein interfaces and loops. Bioinformatics, 29(24), 3158–3166. https://doi.org/10.1093/bioinformatics/btt560\n",
    "\n",
    "[8] Davis, I. W., Leaver-Fay, A., Chen, V. B., Block, J. N., Kapral, G. J., Wang, X., Murray, L. W., Arendall, W. B., Snoeyink, J., Richardson, J. S., & Richardson, D. C. (2007). MolProbity: all-atom contacts and structure validation for proteins and nucleic acids. Nucleic Acids Research, 35(suppl_2), W375–W383. https://doi.org/10.1093/NAR/GKM216\n",
    "\n",
    "[9] Chen, V. B., Arendall, W. B., Headd, J. J., Keedy, D. A., Immormino, R. M., Kapral, G. J., Murray, L. W., Richardson, J. S., & Richardson, D. C. (2010). MolProbity: All-atom structure validation for macromolecular crystallography. Acta Crystallographica Section D: Biological Crystallography, 66(1), 12–21. https://doi.org/10.1107/S0907444909042073\n",
    "\n",
    "[10] Williams, C. J., Headd, J. J., Moriarty, N. W., Prisant, M. G., Videau, L. L., Deis, L. N., Verma, V., Keedy, D. A., Hintze, B. J., Chen, V. B., Jain, S., Lewis, S. M., Arendall, W. B., Snoeyink, J., Adams, P. D., Lovell, S. C., Richardson, J. S., & Richardson, D. C. (2018). MolProbity: More and better reference data for improved all-atom structure validation. Protein Science, 27(1), 293–315. https://doi.org/10.1002/pro.3330\n"
   ]
  },
  {
   "cell_type": "markdown",
   "id": "56e76299-62eb-4336-ac32-31c728fb12ba",
   "metadata": {},
   "source": [
    "## Session Info"
   ]
  },
  {
   "cell_type": "code",
   "execution_count": 13,
   "id": "918c8aa4-70ed-4d5d-be8a-907083594630",
   "metadata": {},
   "outputs": [
    {
     "name": "stdout",
     "output_type": "stream",
     "text": [
      "-----\n",
      "homelette           1.3\n",
      "matplotlib          3.1.2\n",
      "pandas              0.25.3\n",
      "seaborn             0.11.2\n",
      "session_info        1.0.0\n",
      "-----\n",
      "PIL                         7.0.0\n",
      "altmod                      NA\n",
      "anyio                       NA\n",
      "attr                        19.3.0\n",
      "babel                       2.9.1\n",
      "backcall                    0.2.0\n",
      "certifi                     2021.10.08\n",
      "chardet                     3.0.4\n",
      "charset_normalizer          2.0.8\n",
      "cycler                      0.10.0\n",
      "cython_runtime              NA\n",
      "dateutil                    2.7.3\n",
      "debugpy                     1.5.1\n",
      "decorator                   4.4.2\n",
      "entrypoints                 0.3\n",
      "idna                        3.3\n",
      "importlib_resources         NA\n",
      "ipykernel                   6.5.1\n",
      "ipython_genutils            0.2.0\n",
      "jedi                        0.18.1\n",
      "jinja2                      3.0.3\n",
      "json5                       NA\n",
      "jsonschema                  4.2.1\n",
      "jupyter_server              1.12.1\n",
      "jupyterlab_server           2.8.2\n",
      "kiwisolver                  1.0.1\n",
      "markupsafe                  2.0.1\n",
      "matplotlib_inline           NA\n",
      "modeller                    10.1\n",
      "mpl_toolkits                NA\n",
      "nbclassic                   NA\n",
      "nbformat                    5.1.3\n",
      "numexpr                     2.7.1\n",
      "numpy                       1.17.4\n",
      "ost                         2.2.0\n",
      "packaging                   20.3\n",
      "parso                       0.8.2\n",
      "pexpect                     4.8.0\n",
      "pickleshare                 0.7.5\n",
      "pkg_resources               NA\n",
      "prometheus_client           NA\n",
      "promod3                     3.2.0\n",
      "prompt_toolkit              3.0.23\n",
      "ptyprocess                  0.7.0\n",
      "pvectorc                    NA\n",
      "pydev_ipython               NA\n",
      "pydevconsole                NA\n",
      "pydevd                      2.6.0\n",
      "pydevd_concurrency_analyser NA\n",
      "pydevd_file_utils           NA\n",
      "pydevd_plugins              NA\n",
      "pydevd_tracing              NA\n",
      "pygments                    2.10.0\n",
      "pyparsing                   2.4.6\n",
      "pyrsistent                  NA\n",
      "pytz                        2019.3\n",
      "qmean                       NA\n",
      "requests                    2.26.0\n",
      "scipy                       1.3.3\n",
      "send2trash                  NA\n",
      "sitecustomize               NA\n",
      "six                         1.14.0\n",
      "sniffio                     1.2.0\n",
      "storemagic                  NA\n",
      "swig_runtime_data4          NA\n",
      "terminado                   0.12.1\n",
      "tornado                     6.1\n",
      "traitlets                   5.1.1\n",
      "urllib3                     1.26.7\n",
      "wcwidth                     NA\n",
      "websocket                   1.2.1\n",
      "zipp                        NA\n",
      "zmq                         22.3.0\n",
      "-----\n",
      "IPython             7.30.0\n",
      "jupyter_client      7.1.0\n",
      "jupyter_core        4.9.1\n",
      "jupyterlab          3.2.4\n",
      "notebook            6.4.6\n",
      "-----\n",
      "Python 3.8.10 (default, Jun  2 2021, 10:49:15) [GCC 9.4.0]\n",
      "Linux-4.15.0-162-generic-x86_64-with-glibc2.29\n",
      "-----\n",
      "Session information updated at 2021-11-29 19:53\n"
     ]
    }
   ],
   "source": [
    "# session info\n",
    "import session_info\n",
    "session_info.show(html = False, dependencies = True)"
   ]
  }
 ],
 "metadata": {
  "kernelspec": {
   "display_name": "Python 3 (ipykernel)",
   "language": "python",
   "name": "python3"
  },
  "language_info": {
   "codemirror_mode": {
    "name": "ipython",
    "version": 3
   },
   "file_extension": ".py",
   "mimetype": "text/x-python",
   "name": "python",
   "nbconvert_exporter": "python",
   "pygments_lexer": "ipython3",
   "version": "3.8.10"
  }
 },
 "nbformat": 4,
 "nbformat_minor": 5
}
