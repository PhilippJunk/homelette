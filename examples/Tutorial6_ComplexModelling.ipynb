{
 "cells": [
  {
   "cell_type": "markdown",
   "metadata": {},
   "source": [
    "# Tutorial 6: Complex Modelling"
   ]
  },
  {
   "cell_type": "code",
   "execution_count": 1,
   "metadata": {},
   "outputs": [],
   "source": [
    "import homelette as hm"
   ]
  },
  {
   "cell_type": "markdown",
   "metadata": {},
   "source": [
    "## Introduction\n",
    "\n",
    "Welcome to the 6th tutorial on `homelette` about homology modelling of complex structures.\n",
    "\n",
    "There are multiple issues about modelling protein complexes that make it a separate topic from the homology modelling of single structures:\n",
    "\n",
    "- Usually, a complex structure is required as a template.\n",
    "- Not all modelling programs can perform complex modelling.\n",
    "- Not all evaluation metrics developed for homology modelling are applicable to complex structures.\n",
    "- You need multiple alignments.\n",
    "\n",
    "`homelette` is able to use `modeller` based modelling routines for complex modelling [1,2], and has some specific classes in place that make complex modelling easier to the user:\n",
    "- A function to assemble appropriate complex alignments\n",
    "- Special modelling classes for complex modelling\n",
    "- Special evaluation metrics for complex modelling\n",
    "\n",
    "For this tutorial, we will build models for ARAF in complex with HRAS. As a template, we will use the structures [4G0N] (https://www.rcsb.org/structure/4G0N)(RAF1 in complex with HRAS) and [3NY5](https://www.rcsb.org/structure/3NY5) (BRAF)."
   ]
  },
  {
   "cell_type": "markdown",
   "metadata": {},
   "source": [
    "## Alignment\n",
    "\n",
    "Since all current modelling routines for protein complexes are `modeller` based, an alignment according to the `modeller` specification has to be constructed. `homelette` has the helper function `assemble_complex_aln` in the `homelette.alignment` submodule that is able to do that:"
   ]
  },
  {
   "cell_type": "code",
   "execution_count": 2,
   "metadata": {},
   "outputs": [
    {
     "data": {
      "text/plain": [
       "\u001b[0;31mSignature:\u001b[0m\n",
       "\u001b[0mhm\u001b[0m\u001b[0;34m.\u001b[0m\u001b[0malignment\u001b[0m\u001b[0;34m.\u001b[0m\u001b[0massemble_complex_aln\u001b[0m\u001b[0;34m(\u001b[0m\u001b[0;34m\u001b[0m\n",
       "\u001b[0;34m\u001b[0m    \u001b[0;34m*\u001b[0m\u001b[0margs\u001b[0m\u001b[0;34m:\u001b[0m \u001b[0mType\u001b[0m\u001b[0;34m[\u001b[0m\u001b[0mForwardRef\u001b[0m\u001b[0;34m(\u001b[0m\u001b[0;34m'Alignment'\u001b[0m\u001b[0;34m)\u001b[0m\u001b[0;34m]\u001b[0m\u001b[0;34m,\u001b[0m\u001b[0;34m\u001b[0m\n",
       "\u001b[0;34m\u001b[0m    \u001b[0mnames\u001b[0m\u001b[0;34m:\u001b[0m \u001b[0mdict\u001b[0m\u001b[0;34m,\u001b[0m\u001b[0;34m\u001b[0m\n",
       "\u001b[0;34m\u001b[0m\u001b[0;34m)\u001b[0m \u001b[0;34m->\u001b[0m \u001b[0mType\u001b[0m\u001b[0;34m[\u001b[0m\u001b[0mForwardRef\u001b[0m\u001b[0;34m(\u001b[0m\u001b[0;34m'Alignment'\u001b[0m\u001b[0;34m)\u001b[0m\u001b[0;34m]\u001b[0m\u001b[0;34m\u001b[0m\u001b[0;34m\u001b[0m\u001b[0m\n",
       "\u001b[0;31mDocstring:\u001b[0m\n",
       "Assemble complex alignments compatible with MODELLER from individual\n",
       "alignments.\n",
       "\n",
       "Parameters\n",
       "----------\n",
       "*args : Alignment\n",
       "    The input alignments\n",
       "names : dict\n",
       "    Dictionary instructing how sequences in the different alignment objects\n",
       "    are supposed to be arranged in the complex alignment. The keys are the\n",
       "    names of the sequences in the output alignments. The values are\n",
       "    iterables of the sequence names from the input alignments in the order\n",
       "    they are supposed to appaer in the output alignment. Any value that can\n",
       "    not be found in the alignment signals that this position in the complex\n",
       "    alignment should be filled with gaps.\n",
       "\n",
       "Returns\n",
       "-------\n",
       "Alignment\n",
       "    Assembled complex alignment\n",
       "\n",
       "Examples\n",
       "--------\n",
       ">>> aln1 = hm.Alignment(None)\n",
       ">>> aln1.sequences = {\n",
       "...     'seq1_1': hm.alignment.Sequence('seq1_1', 'HELLO'),\n",
       "...     'seq2_1': hm.alignment.Sequence('seq2_1', 'H---I'),\n",
       "...     'seq3_1': hm.alignment.Sequence('seq3_1', '-HI--')\n",
       "...     }\n",
       ">>> aln2 = hm.Alignment(None)\n",
       ">>> aln2.sequences = {\n",
       "...     'seq2_2': hm.alignment.Sequence('seq2_2', 'KITTY'),\n",
       "...     'seq1_2': hm.alignment.Sequence('seq1_2', 'WORLD')\n",
       "...     }\n",
       ">>> names = {'seq1': ('seq1_1', 'seq1_2'),\n",
       "...          'seq2': ('seq2_1', 'seq2_2'),\n",
       "...          'seq3': ('seq3_1', 'gaps')\n",
       "...     }\n",
       ">>> aln_assembled = hm.alignment.assemble_complex_aln(\n",
       "...     aln1, aln2, names=names)\n",
       ">>> aln_assembled.print_clustal()\n",
       "seq1        HELLO/WORLD\n",
       "seq2        H---I/KITTY\n",
       "seq3        -HI--/-----\n",
       "\u001b[0;31mFile:\u001b[0m      /usr/local/src/homelette/homelette/alignment.py\n",
       "\u001b[0;31mType:\u001b[0m      function\n"
      ]
     },
     "metadata": {},
     "output_type": "display_data"
    }
   ],
   "source": [
    "?hm.alignment.assemble_complex_aln"
   ]
  },
  {
   "cell_type": "markdown",
   "metadata": {},
   "source": [
    "In our case, we assemble an alignment from two different alignments, `aln_1` which contains ARAF, RAF1 (*4G0N*) and BRAF (*3NY5*) and `aln_2` which contains an HRAS sequence and the HRAS sequence from *4G0N*."
   ]
  },
  {
   "cell_type": "code",
   "execution_count": 3,
   "metadata": {},
   "outputs": [
    {
     "name": "stdout",
     "output_type": "stream",
     "text": [
      "ARAF        ---GTVKVYLPNKQRTVVTVRDGMSVYDSLDKALKVRGLNQDCCVVYRLI---KGRKTVTAWDTAIAPLD\n",
      "4G0N        -TSNTIRVFLPNKQRTVVNVRNGMSLHDCLMKALKVRGLQPECCAVFRLLHEHKGKKARLDWNTDAASLI\n",
      "3NY5        HQKPIVRVFLPNKQRTVVPARCGVTVRDSLKKAL--RGLIPECCAVYRIQ------KKPIGWDTDISWLT\n",
      "\n",
      "\n",
      "ARAF        GEELIVEVL------/MTEYKLVVVGAGGVGKSALTIQLIQNHFVDEYDPTIEDSYRKQVVIDGETCLLD\n",
      "4G0N        GEELQVDFL------/MTEYKLVVVGAGGVGKSALTIQLIQNHFVDEYDPTIEDSYRKQVVIDGETCLLD\n",
      "3NY5        GEELHVEVLENVPLT/------------------------------------------------------\n",
      "\n",
      "\n",
      "ARAF        ILDTAGQEEYSAMRDQYMRTGEGFLCVFAINNTKSFEDIHQYREQIKRVKDSDDVPMVLVGNKCDLAART\n",
      "4G0N        ILDTAGQEE--AMRDQYMRTGEGFLCVFAINNTKSFEDIHQYREQIKRVKDSDDVPMVLVGNKCDLAART\n",
      "3NY5        ----------------------------------------------------------------------\n",
      "\n",
      "\n",
      "ARAF        VESRQAQDLARSYGIPYIETSAKTRQGVEDAFYTLVREIRQ-\n",
      "4G0N        VESRQAQDLARSYGIPYIETSAKTRQGVEDAFYTLVREIRQH\n",
      "3NY5        ------------------------------------------\n",
      "\n",
      "\n"
     ]
    }
   ],
   "source": [
    "# import single alignments\n",
    "aln1_file = 'data/complex/aln_eff.fasta_aln'\n",
    "aln2_file = 'data/complex/aln_ras.fasta_aln'\n",
    "\n",
    "aln_1 = hm.Alignment(aln1_file)\n",
    "aln_2 = hm.Alignment(aln2_file)\n",
    "\n",
    "# build dictionary that indicates how sequences should be assembled\n",
    "names = {\n",
    "    'ARAF': ('ARAF', 'HRAS'),\n",
    "    '4G0N': ('4G0N', '4G0N'),\n",
    "    '3NY5': ('3NY5', ''),\n",
    "}\n",
    "\n",
    "# assemble alignment\n",
    "aln = hm.alignment.assemble_complex_aln(aln_1, aln_2, names=names)\n",
    "aln.remove_redundant_gaps()\n",
    "aln.print_clustal(line_wrap=70)"
   ]
  },
  {
   "cell_type": "markdown",
   "metadata": {},
   "source": [
    "After assembling the complex alignment, we annotate it as usual:"
   ]
  },
  {
   "cell_type": "code",
   "execution_count": 4,
   "metadata": {},
   "outputs": [],
   "source": [
    "# annotate alignment\n",
    "aln.get_sequence('ARAF').annotate(seq_type='sequence')\n",
    "aln.get_sequence('4G0N').annotate(seq_type = 'structure',\n",
    "                              pdb_code = '4G0N',\n",
    "                              begin_res = '1',\n",
    "                              begin_chain = 'A')\n",
    "aln.get_sequence('3NY5').annotate(seq_type = 'structure',\n",
    "                              pdb_code = '3NY5',\n",
    "                              begin_res = '1',\n",
    "                              begin_chain = 'A')"
   ]
  },
  {
   "cell_type": "markdown",
   "metadata": {},
   "source": [
    "## Modelling\n",
    "\n",
    "There are 4 routines available specifically for complex modelling based on `modeller` [1,2] and `altmod` [3]. They run with the same parameters as their counterparts for single structure modelling, except that they handle naming of new chains and residue numbers a bit differently. \n",
    "\n",
    "The following routines are available for complex modelling:\n",
    "\n",
    "- `Routine_complex_automodel_default`\n",
    "- `Routine_complex_automodel_slow`\n",
    "- `Routine_complex_altmod_default`\n",
    "- `Routine_complex_altmod_slow`"
   ]
  },
  {
   "cell_type": "code",
   "execution_count": 5,
   "metadata": {},
   "outputs": [],
   "source": [
    "# initialize task object\n",
    "t = hm.Task(task_name='Tutorial6',\n",
    "            alignment=aln, \n",
    "            target='ARAF', \n",
    "            overwrite=True)"
   ]
  },
  {
   "cell_type": "markdown",
   "metadata": {},
   "source": [
    "Modelling can be performed with `Task.execute_routine` as usual."
   ]
  },
  {
   "cell_type": "code",
   "execution_count": 6,
   "metadata": {},
   "outputs": [],
   "source": [
    "# generate models based on a complex template \n",
    "t.execute_routine(tag='automodel_' + '4G0N', \n",
    "                  routine=hm.routines.Routine_complex_automodel_default, \n",
    "                  templates = ['4G0N'],\n",
    "                  template_location='data/complex/', \n",
    "                  n_models=20, \n",
    "                  n_threads=5)"
   ]
  },
  {
   "cell_type": "markdown",
   "metadata": {},
   "source": [
    "Not all templates have to be complex templates, it is perfectly applicable to mix complex templates and single templates. However, at least one complex template should be used in order to convey information about the orientation of the proteins to each other. "
   ]
  },
  {
   "cell_type": "code",
   "execution_count": 7,
   "metadata": {},
   "outputs": [],
   "source": [
    "# generate models based on a complex and a single template\n",
    "t.execute_routine(tag='automodel_' + '_'.join(['4G0N', '3NY5']), \n",
    "                  routine=hm.routines.Routine_complex_automodel_default, \n",
    "                  templates = ['4G0N', '3NY5'],\n",
    "                  template_location='data/complex', \n",
    "                  n_models=20, \n",
    "                  n_threads=5)"
   ]
  },
  {
   "cell_type": "markdown",
   "metadata": {},
   "source": [
    "## Evaluation"
   ]
  },
  {
   "cell_type": "markdown",
   "metadata": {},
   "source": [
    "Not all evaluation metrics are designed to evaluate complex structures. For example, the SOAP score has different statistical potentials for single proteins (`Evaluation_soap_protein`) and for protein complexes (`Evaluation_soap_pp`) [4]."
   ]
  },
  {
   "cell_type": "code",
   "execution_count": 8,
   "metadata": {},
   "outputs": [],
   "source": [
    "# perform evaluation\n",
    "t.evaluate_models(hm.evaluation.Evaluation_mol_probity,\n",
    "                  hm.evaluation.Evaluation_soap_pp,\n",
    "                  n_threads=5)"
   ]
  },
  {
   "cell_type": "code",
   "execution_count": 9,
   "metadata": {},
   "outputs": [
    {
     "data": {
      "text/html": [
       "<div>\n",
       "<style scoped>\n",
       "    .dataframe tbody tr th:only-of-type {\n",
       "        vertical-align: middle;\n",
       "    }\n",
       "\n",
       "    .dataframe tbody tr th {\n",
       "        vertical-align: top;\n",
       "    }\n",
       "\n",
       "    .dataframe thead th {\n",
       "        text-align: right;\n",
       "    }\n",
       "</style>\n",
       "<table border=\"1\" class=\"dataframe\">\n",
       "  <thead>\n",
       "    <tr style=\"text-align: right;\">\n",
       "      <th></th>\n",
       "      <th>model</th>\n",
       "      <th>tag</th>\n",
       "      <th>routine</th>\n",
       "      <th>mp_score</th>\n",
       "      <th>soap_pp_all</th>\n",
       "      <th>soap_pp_atom</th>\n",
       "      <th>soap_pp_pair</th>\n",
       "    </tr>\n",
       "  </thead>\n",
       "  <tbody>\n",
       "    <tr>\n",
       "      <th>32</th>\n",
       "      <td>automodel_4G0N_3NY5_13.pdb</td>\n",
       "      <td>automodel_4G0N_3NY5</td>\n",
       "      <td>complex_automodel_default</td>\n",
       "      <td>2.24</td>\n",
       "      <td>-9502.636719</td>\n",
       "      <td>-7770.577637</td>\n",
       "      <td>-1732.059326</td>\n",
       "    </tr>\n",
       "    <tr>\n",
       "      <th>39</th>\n",
       "      <td>automodel_4G0N_3NY5_20.pdb</td>\n",
       "      <td>automodel_4G0N_3NY5</td>\n",
       "      <td>complex_automodel_default</td>\n",
       "      <td>2.15</td>\n",
       "      <td>-9486.243164</td>\n",
       "      <td>-7656.946777</td>\n",
       "      <td>-1829.296143</td>\n",
       "    </tr>\n",
       "    <tr>\n",
       "      <th>28</th>\n",
       "      <td>automodel_4G0N_3NY5_9.pdb</td>\n",
       "      <td>automodel_4G0N_3NY5</td>\n",
       "      <td>complex_automodel_default</td>\n",
       "      <td>2.46</td>\n",
       "      <td>-9475.368164</td>\n",
       "      <td>-7769.337891</td>\n",
       "      <td>-1706.030396</td>\n",
       "    </tr>\n",
       "    <tr>\n",
       "      <th>29</th>\n",
       "      <td>automodel_4G0N_3NY5_10.pdb</td>\n",
       "      <td>automodel_4G0N_3NY5</td>\n",
       "      <td>complex_automodel_default</td>\n",
       "      <td>2.71</td>\n",
       "      <td>-9458.609375</td>\n",
       "      <td>-7647.797852</td>\n",
       "      <td>-1810.811646</td>\n",
       "    </tr>\n",
       "    <tr>\n",
       "      <th>9</th>\n",
       "      <td>automodel_4G0N_10.pdb</td>\n",
       "      <td>automodel_4G0N</td>\n",
       "      <td>complex_automodel_default</td>\n",
       "      <td>2.38</td>\n",
       "      <td>-9405.662109</td>\n",
       "      <td>-7718.845215</td>\n",
       "      <td>-1686.817139</td>\n",
       "    </tr>\n",
       "  </tbody>\n",
       "</table>\n",
       "</div>"
      ],
      "text/plain": [
       "                         model                  tag  \\\n",
       "32  automodel_4G0N_3NY5_13.pdb  automodel_4G0N_3NY5   \n",
       "39  automodel_4G0N_3NY5_20.pdb  automodel_4G0N_3NY5   \n",
       "28   automodel_4G0N_3NY5_9.pdb  automodel_4G0N_3NY5   \n",
       "29  automodel_4G0N_3NY5_10.pdb  automodel_4G0N_3NY5   \n",
       "9        automodel_4G0N_10.pdb       automodel_4G0N   \n",
       "\n",
       "                      routine  mp_score  soap_pp_all  soap_pp_atom  \\\n",
       "32  complex_automodel_default      2.24 -9502.636719  -7770.577637   \n",
       "39  complex_automodel_default      2.15 -9486.243164  -7656.946777   \n",
       "28  complex_automodel_default      2.46 -9475.368164  -7769.337891   \n",
       "29  complex_automodel_default      2.71 -9458.609375  -7647.797852   \n",
       "9   complex_automodel_default      2.38 -9405.662109  -7718.845215   \n",
       "\n",
       "    soap_pp_pair  \n",
       "32  -1732.059326  \n",
       "39  -1829.296143  \n",
       "28  -1706.030396  \n",
       "29  -1810.811646  \n",
       "9   -1686.817139  "
      ]
     },
     "execution_count": 9,
     "metadata": {},
     "output_type": "execute_result"
    }
   ],
   "source": [
    "# show a bit of the evaluation\n",
    "t.get_evaluation().sort_values(by='soap_pp_all').head()"
   ]
  },
  {
   "cell_type": "markdown",
   "metadata": {},
   "source": [
    "## Further reading\n",
    "\n",
    "Congratulation on finishing the tutorial about complex modelling in `homelette`. The following tutorials might also be of interest to you:\n",
    "\n",
    "- **Tutorial 1**: Learn about the basics of `homelette`.\n",
    "- **Tutorial 2**: Learn more about already implemented routines for homology modelling.\n",
    "- **Tutorial 3**: Learn about the evaluation metrics available with `homelette`.\n",
    "- **Tutorial 4**: Learn about extending `homelette`'s functionality by defining your own modelling routines and evaluation metrics.\n",
    "- **Tutorial 5**: Learn about how to use parallelization in order to generate and evaluate models more efficiently.\n",
    "- **Tutorial 7**: Learn about assembling custom pipelines."
   ]
  },
  {
   "cell_type": "markdown",
   "metadata": {},
   "source": [
    "## References\n",
    "\n",
    "[1] Šali, A., & Blundell, T. L. (1993). Comparative protein modelling by satisfaction of spatial restraints. Journal of Molecular Biology, 234(3), 779–815. https://doi.org/10.1006/jmbi.1993.1626\n",
    "\n",
    "[2] Webb, B., & Sali, A. (2016). Comparative Protein Structure Modeling Using MODELLER. Current Protocols in Bioinformatics, 54(1), 5.6.1-5.6.37. https://doi.org/10.1002/cpbi.3\n",
    "\n",
    "[3] Janson, G., Grottesi, A., Pietrosanto, M., Ausiello, G., Guarguaglini, G., & Paiardini, A. (2019). Revisiting the “satisfaction of spatial restraints” approach of MODELLER for protein homology modeling. PLoS Computational Biology, 15(12), e1007219. https://doi.org/10.1371/journal.pcbi.1007219\n",
    "\n",
    "[4] Dong, G. Q., Fan, H., Schneidman-Duhovny, D., Webb, B., Sali, A., & Tramontano, A. (2013). Optimized atomic statistical potentials: Assessment of protein interfaces and loops. Bioinformatics, 29(24), 3158–3166. https://doi.org/10.1093/bioinformatics/btt560"
   ]
  },
  {
   "cell_type": "markdown",
   "metadata": {},
   "source": [
    "## Session Info"
   ]
  },
  {
   "cell_type": "code",
   "execution_count": 10,
   "metadata": {},
   "outputs": [
    {
     "name": "stdout",
     "output_type": "stream",
     "text": [
      "-----\n",
      "homelette           1.0\n",
      "pandas              0.25.3\n",
      "session_info        1.0.0\n",
      "-----\n",
      "PIL                         7.0.0\n",
      "altmod                      NA\n",
      "anyio                       NA\n",
      "attr                        19.3.0\n",
      "babel                       2.9.1\n",
      "backcall                    0.2.0\n",
      "certifi                     2021.05.30\n",
      "chardet                     3.0.4\n",
      "charset_normalizer          2.0.4\n",
      "cycler                      0.10.0\n",
      "cython_runtime              NA\n",
      "dateutil                    2.7.3\n",
      "debugpy                     1.4.1\n",
      "decorator                   4.4.2\n",
      "entrypoints                 0.3\n",
      "idna                        3.2\n",
      "ipykernel                   6.3.1\n",
      "ipython_genutils            0.2.0\n",
      "jedi                        0.18.0\n",
      "jinja2                      3.0.1\n",
      "json5                       NA\n",
      "jsonschema                  3.2.0\n",
      "jupyter_server              1.10.2\n",
      "jupyterlab_server           2.8.0\n",
      "kiwisolver                  1.0.1\n",
      "markupsafe                  2.0.1\n",
      "matplotlib                  3.1.2\n",
      "modeller                    10.1\n",
      "mpl_toolkits                NA\n",
      "nbclassic                   NA\n",
      "nbformat                    5.1.3\n",
      "numpy                       1.17.4\n",
      "ost                         2.2.0\n",
      "packaging                   20.3\n",
      "parso                       0.8.2\n",
      "pexpect                     4.8.0\n",
      "pickleshare                 0.7.5\n",
      "pkg_resources               NA\n",
      "prometheus_client           NA\n",
      "promod3                     3.2.0\n",
      "prompt_toolkit              3.0.20\n",
      "ptyprocess                  0.7.0\n",
      "pvectorc                    NA\n",
      "pydev_ipython               NA\n",
      "pydevconsole                NA\n",
      "pydevd                      2.4.1\n",
      "pydevd_concurrency_analyser NA\n",
      "pydevd_file_utils           NA\n",
      "pydevd_plugins              NA\n",
      "pydevd_tracing              NA\n",
      "pygments                    2.10.0\n",
      "pyparsing                   2.4.6\n",
      "pyrsistent                  NA\n",
      "pytz                        2019.3\n",
      "qmean                       NA\n",
      "requests                    2.26.0\n",
      "send2trash                  NA\n",
      "sitecustomize               NA\n",
      "six                         1.14.0\n",
      "sniffio                     1.2.0\n",
      "storemagic                  NA\n",
      "swig_runtime_data4          NA\n",
      "terminado                   0.12.1\n",
      "tornado                     6.1\n",
      "traitlets                   5.1.0\n",
      "urllib3                     1.26.6\n",
      "wcwidth                     NA\n",
      "websocket                   1.2.1\n",
      "zmq                         22.2.1\n",
      "-----\n",
      "IPython             7.27.0\n",
      "jupyter_client      7.0.2\n",
      "jupyter_core        4.7.1\n",
      "jupyterlab          3.1.10\n",
      "notebook            6.4.3\n",
      "-----\n",
      "Python 3.8.10 (default, Jun  2 2021, 10:49:15) [GCC 9.4.0]\n",
      "Linux-4.15.0-147-generic-x86_64-with-glibc2.29\n",
      "-----\n",
      "Session information updated at 2021-09-07 16:05\n"
     ]
    }
   ],
   "source": [
    "# session info\n",
    "import session_info\n",
    "session_info.show(html = False, dependencies = True)"
   ]
  }
 ],
 "metadata": {
  "kernelspec": {
   "display_name": "Python 3 (ipykernel)",
   "language": "python",
   "name": "python3"
  },
  "language_info": {
   "codemirror_mode": {
    "name": "ipython",
    "version": 3
   },
   "file_extension": ".py",
   "mimetype": "text/x-python",
   "name": "python",
   "nbconvert_exporter": "python",
   "pygments_lexer": "ipython3",
   "version": "3.8.10"
  },
  "toc": {
   "base_numbering": 1,
   "nav_menu": {},
   "number_sections": true,
   "sideBar": true,
   "skip_h1_title": false,
   "title_cell": "Table of Contents",
   "title_sidebar": "Contents",
   "toc_cell": false,
   "toc_position": {
    "height": "calc(100% - 180px)",
    "left": "10px",
    "top": "150px",
    "width": "384px"
   },
   "toc_section_display": true,
   "toc_window_display": true
  }
 },
 "nbformat": 4,
 "nbformat_minor": 4
}
