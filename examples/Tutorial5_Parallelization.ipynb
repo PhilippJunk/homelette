{
 "cells": [
  {
   "cell_type": "markdown",
   "metadata": {
    "toc": true
   },
   "source": [
    "# Tutorial 5: Parallelization"
   ]
  },
  {
   "cell_type": "code",
   "execution_count": 1,
   "metadata": {},
   "outputs": [],
   "source": [
    "import homelette as hm\n",
    "\n",
    "import time"
   ]
  },
  {
   "cell_type": "markdown",
   "metadata": {},
   "source": [
    "## Introduction\n",
    "\n",
    "Welcome to the fifth tutorial on `homelette`. This tutorial is about parallelization in `homelette`. When modelling hundreds or thousands of models, some processes can be significantly sped up by dividing the workload on multiple processes in parallel (supported by appropriate hardware). \n",
    "\n",
    "There are possibilities to parallelize both model generation and evaluation in `homelette`."
   ]
  },
  {
   "cell_type": "markdown",
   "metadata": {},
   "source": [
    "## Alignment and Task setup\n",
    "\n",
    "For this tutorial, we are using the same alignment as in **Tutorial 1**. Identical to previous tutorials, the alignment is imported and annotated, and a `Task` object is set up."
   ]
  },
  {
   "cell_type": "code",
   "execution_count": 2,
   "metadata": {},
   "outputs": [],
   "source": [
    "# read in the alignment\n",
    "aln = hm.Alignment('data/single/aln_1.fasta_aln')\n",
    "\n",
    "# annotate the alignment\n",
    "aln.get_sequence('ARAF').annotate(\n",
    "    seq_type = 'sequence')\n",
    "aln.get_sequence('3NY5').annotate(\n",
    "    seq_type = 'structure',\n",
    "    pdb_code = '3NY5',\n",
    "    begin_res = '1',\n",
    "    begin_chain = 'A',\n",
    "    end_res = '81', \n",
    "    end_chain = 'A')\n",
    "\n",
    "# initialize task object\n",
    "t = hm.Task(\n",
    "    task_name = 'Tutorial5',\n",
    "    target = 'ARAF',\n",
    "    alignment = aln,\n",
    "    overwrite = True)"
   ]
  },
  {
   "cell_type": "markdown",
   "metadata": {},
   "source": [
    "## Parallel model generation\n",
    "\n",
    "When trying to parallelize model generation, `homelette` makes use of the parallelization methods implemented in the packages that `homelette` uses, if they are available. Model generation with `modeller` can be parallized and is available in `homelette` through a simple handler [1,2]. \n",
    "\n",
    "All `modeller` based, pre-implemented routines have the argument `n_threads` which can be used to use parallelization. The default is `n_threads = 1` which does not activate parallelization, but any number > 1 will distribute the workload on the number of threads requested using the `modeller.parallel` submodule."
   ]
  },
  {
   "cell_type": "code",
   "execution_count": 3,
   "metadata": {},
   "outputs": [
    {
     "name": "stdout",
     "output_type": "stream",
     "text": [
      "Elapsed time: 33.05690598487854\n"
     ]
    }
   ],
   "source": [
    "# use only 1 thread to generate 20 models\n",
    "start = time.time()\n",
    "t.execute_routine(\n",
    "    tag = '1_thread',\n",
    "    routine = hm.routines.Routine_automodel_default,\n",
    "    templates = ['3NY5'],\n",
    "    template_location = './data/single/',\n",
    "    n_models = 20)\n",
    "print('Elapsed time: ' + str(time.time() - start))"
   ]
  },
  {
   "cell_type": "code",
   "execution_count": 4,
   "metadata": {},
   "outputs": [
    {
     "name": "stdout",
     "output_type": "stream",
     "text": [
      "Elapsed time: 9.513092994689941\n"
     ]
    }
   ],
   "source": [
    "# use 4 threads to generate 20 models faster\n",
    "start  = time.time()\n",
    "t.execute_routine(\n",
    "    tag = '4_threads',\n",
    "    routine = hm.routines.Routine_automodel_default,\n",
    "    templates = ['3NY5'],\n",
    "    template_location = './data/single/',\n",
    "    n_models = 20,\n",
    "    n_threads = 4)\n",
    "print('Elapsed time: ' + str(time.time() - start))"
   ]
  },
  {
   "cell_type": "markdown",
   "metadata": {},
   "source": [
    "Using multiple threads can significantly speed up model generation, especially if a large number of models are generated.\n",
    "\n",
    "<div class=\"alert alert-info\">\n",
    "\n",
    "**Note**\n",
    "\n",
    "Please be aware that the `modeller.parallel` submodule uses the Python module `pickle`, which requires objects to be pickled to be saved in a separate file. In practical terms, if you want to run parallelization in modeller with a custom object (i.e. a custom defined routine, see **Tutorial 4**), you cannot make use of parallelization unless you have imported it from a separate file. Therefore we recommend that custom routines and evaluation are saved in a separate file and then imported from there.\n",
    "    \n",
    "</div>\n",
    "\n",
    "The following code block shows how custom building blocks could be put in an external file (`data/extension.py`) and then imported for modelling and analysis."
   ]
  },
  {
   "cell_type": "code",
   "execution_count": 5,
   "metadata": {},
   "outputs": [
    {
     "data": {
      "text/plain": [
       "\u001b[0;31mInit signature:\u001b[0m \u001b[0mCustom_Routine\u001b[0m\u001b[0;34m(\u001b[0m\u001b[0;34m)\u001b[0m\u001b[0;34m\u001b[0m\u001b[0;34m\u001b[0m\u001b[0m\n",
       "\u001b[0;31mDocstring:\u001b[0m      Custom routine waiting to be implemented.\n",
       "\u001b[0;31mFile:\u001b[0m           /home/data/extension.py\n",
       "\u001b[0;31mType:\u001b[0m           type\n",
       "\u001b[0;31mSubclasses:\u001b[0m     \n"
      ]
     },
     "metadata": {},
     "output_type": "display_data"
    }
   ],
   "source": [
    "# import from custom file\n",
    "from data.extension import Custom_Routine, Custom_Evaluation\n",
    "\n",
    "?Custom_Routine"
   ]
  },
  {
   "cell_type": "code",
   "execution_count": 6,
   "metadata": {},
   "outputs": [
    {
     "name": "stdout",
     "output_type": "stream",
     "text": [
      "'''\n",
      "Examples of custom objects for homelette in a external file.\n",
      "'''\n",
      "\n",
      "\n",
      "class Custom_Routine():\n",
      "    '''\n",
      "    Custom routine waiting to be implemented.\n",
      "    '''\n",
      "    def __init__(self):\n",
      "        print('TODO: implement this')\n",
      "\n",
      "\n",
      "class Custom_Evaluation():\n",
      "    '''\n",
      "    Custom evaluation waiting to be implemented.\n",
      "    '''\n",
      "    def __init__(self):\n",
      "        print('TODO: implement this')\n"
     ]
    }
   ],
   "source": [
    "!cat data/extension.py"
   ]
  },
  {
   "cell_type": "markdown",
   "metadata": {},
   "source": [
    "Alternatively, you could use the `/homelette/extension/` folder in which extensions are stored. See our comments on extensions in our [documentation](https://homelette.readthedocs.io/) for more details."
   ]
  },
  {
   "cell_type": "markdown",
   "metadata": {},
   "source": [
    "## Parallel model evaluation "
   ]
  },
  {
   "cell_type": "markdown",
   "metadata": {},
   "source": [
    "`homelette` can also use parallelization to speed up model evaluation. This is internally archieved by using `concurrent.futures.ThreadPoolExecutor`.\n",
    "\n",
    "In order to use parallelization when performing evaluations, use the `n_threads` argument in `Task.evaluate_models`. "
   ]
  },
  {
   "cell_type": "code",
   "execution_count": 7,
   "metadata": {},
   "outputs": [
    {
     "name": "stdout",
     "output_type": "stream",
     "text": [
      "Elapsed time: 312.2611029148102\n"
     ]
    }
   ],
   "source": [
    "# use 1 thread for model evaluation\n",
    "start  = time.time()\n",
    "t.evaluate_models(hm.evaluation.Evaluation_mol_probity, n_threads=1)\n",
    "print('Elapsed time: ' + str(time.time() - start))"
   ]
  },
  {
   "cell_type": "code",
   "execution_count": 8,
   "metadata": {},
   "outputs": [
    {
     "name": "stdout",
     "output_type": "stream",
     "text": [
      "Elapsed time: 88.77563118934631\n"
     ]
    }
   ],
   "source": [
    "# use 4 threads for model evaluation\n",
    "start  = time.time()\n",
    "t.evaluate_models(hm.evaluation.Evaluation_mol_probity, n_threads=4)\n",
    "print('Elapsed time: ' + str(time.time() - start))"
   ]
  },
  {
   "cell_type": "markdown",
   "metadata": {},
   "source": [
    "For some evaluation schemes, using parallelization can lead to a significant speedup. \n",
    "\n",
    "<div class=\"alert alert-info\">\n",
    "\n",
    "**Note**\n",
    "\n",
    "Please be advised that for some (very fast) evaluation methods, the time investment of spawning new child processes might not compensate for the speedup gained by parallelization. Test your usecase on your system in a small setting and use at your own discretion.\n",
    "    \n",
    "</div>"
   ]
  },
  {
   "cell_type": "code",
   "execution_count": 9,
   "metadata": {},
   "outputs": [
    {
     "name": "stdout",
     "output_type": "stream",
     "text": [
      "Elapsed time: 8.350443840026855\n"
     ]
    }
   ],
   "source": [
    "# use 1 thread for model evaluation\n",
    "start  = time.time()\n",
    "t.evaluate_models(hm.evaluation.Evaluation_dope, n_threads=1)\n",
    "print('Elapsed time: ' + str(time.time() - start))"
   ]
  },
  {
   "cell_type": "code",
   "execution_count": 10,
   "metadata": {},
   "outputs": [
    {
     "name": "stdout",
     "output_type": "stream",
     "text": [
      "Elapsed time: 13.839209079742432\n"
     ]
    }
   ],
   "source": [
    "# use 4 threads for model evaluation\n",
    "start  = time.time()\n",
    "t.evaluate_models(hm.evaluation.Evaluation_dope, n_threads=4)\n",
    "print('Elapsed time: ' + str(time.time() - start))"
   ]
  },
  {
   "cell_type": "markdown",
   "metadata": {},
   "source": [
    "<div class=\"alert alert-info\">\n",
    "\n",
    "**Note**\n",
    "\n",
    "When creating and using custom evaluation metrics, please make sure to avoid race conditions. `Task.evaluate_models` is implemented with a protection against race conditions, but this is not bulletproof. Also, if you need to create temporary files, make sure to create file names with model-specific names (i.e. by using the model name in the file name). Defining custom evaluations in a separate file is not necessary, as parallelization of evaluation methods does not rely on `pickle`.\n",
    "\n",
    "</div>"
   ]
  },
  {
   "cell_type": "markdown",
   "metadata": {},
   "source": [
    "<div class=\"alert alert-info\">\n",
    "\n",
    "**Note**\n",
    "\n",
    "In case some custom evaluation metrics are very memory-demanding, running it in parallel can easily overwhelm the system. Again, we encourage you to test your usecase on your system in a small setting.\n",
    "    \n",
    "</div>"
   ]
  },
  {
   "cell_type": "markdown",
   "metadata": {},
   "source": [
    "## Further reading\n",
    "\n",
    "Congratulation on completing **Tutorial 5** about parallelization in `homelette`. Please note that there are other tutorials, which will teach you more about how to use `homelette`:\n",
    "\n",
    "- **Tutorial 1**: Learn about the basics of `homelette`.\n",
    "- **Tutorial 2**: Learn more about already implemented routines for homology modelling.\n",
    "- **Tutorial 3**: Learn about the evaluation metrics available with `homelette`.\n",
    "- **Tutorial 4**: Learn about extending `homelette`'s functionality by defining your own modelling routines and evaluation metrics.\n",
    "- **Tutorial 6**: Learn about modelling protein complexes.\n",
    "- **Tutorial 7**: Learn about assembling custom pipelines."
   ]
  },
  {
   "cell_type": "markdown",
   "metadata": {},
   "source": [
    "## References\n",
    "\n",
    "[1] Šali, A., & Blundell, T. L. (1993). Comparative protein modelling by satisfaction of spatial restraints. Journal of Molecular Biology, 234(3), 779–815. https://doi.org/10.1006/jmbi.1993.1626\n",
    "\n",
    "[2] Webb, B., & Sali, A. (2016). Comparative Protein Structure Modeling Using MODELLER. Current Protocols in Bioinformatics, 54(1), 5.6.1-5.6.37. https://doi.org/10.1002/cpbi.3"
   ]
  },
  {
   "cell_type": "markdown",
   "metadata": {},
   "source": [
    "## Session Info"
   ]
  },
  {
   "cell_type": "code",
   "execution_count": 11,
   "metadata": {},
   "outputs": [
    {
     "name": "stdout",
     "output_type": "stream",
     "text": [
      "-----\n",
      "data                NA\n",
      "homelette           1.0\n",
      "session_info        1.0.0\n",
      "-----\n",
      "PIL                         7.0.0\n",
      "altmod                      NA\n",
      "anyio                       NA\n",
      "attr                        19.3.0\n",
      "babel                       2.9.1\n",
      "backcall                    0.2.0\n",
      "certifi                     2021.05.30\n",
      "chardet                     3.0.4\n",
      "charset_normalizer          2.0.4\n",
      "cycler                      0.10.0\n",
      "cython_runtime              NA\n",
      "dateutil                    2.7.3\n",
      "debugpy                     1.4.1\n",
      "decorator                   4.4.2\n",
      "entrypoints                 0.3\n",
      "idna                        3.2\n",
      "ipykernel                   6.3.1\n",
      "ipython_genutils            0.2.0\n",
      "jedi                        0.18.0\n",
      "jinja2                      3.0.1\n",
      "json5                       NA\n",
      "jsonschema                  3.2.0\n",
      "jupyter_server              1.10.2\n",
      "jupyterlab_server           2.8.0\n",
      "kiwisolver                  1.0.1\n",
      "markupsafe                  2.0.1\n",
      "matplotlib                  3.1.2\n",
      "modeller                    10.1\n",
      "mpl_toolkits                NA\n",
      "nbclassic                   NA\n",
      "nbformat                    5.1.3\n",
      "numpy                       1.17.4\n",
      "ost                         2.2.0\n",
      "packaging                   20.3\n",
      "pandas                      0.25.3\n",
      "parso                       0.8.2\n",
      "pexpect                     4.8.0\n",
      "pickleshare                 0.7.5\n",
      "pkg_resources               NA\n",
      "prometheus_client           NA\n",
      "promod3                     3.2.0\n",
      "prompt_toolkit              3.0.20\n",
      "ptyprocess                  0.7.0\n",
      "pvectorc                    NA\n",
      "pydev_ipython               NA\n",
      "pydevconsole                NA\n",
      "pydevd                      2.4.1\n",
      "pydevd_concurrency_analyser NA\n",
      "pydevd_file_utils           NA\n",
      "pydevd_plugins              NA\n",
      "pydevd_tracing              NA\n",
      "pygments                    2.10.0\n",
      "pyparsing                   2.4.6\n",
      "pyrsistent                  NA\n",
      "pytz                        2019.3\n",
      "qmean                       NA\n",
      "requests                    2.26.0\n",
      "send2trash                  NA\n",
      "sitecustomize               NA\n",
      "six                         1.14.0\n",
      "sniffio                     1.2.0\n",
      "storemagic                  NA\n",
      "swig_runtime_data4          NA\n",
      "terminado                   0.12.1\n",
      "tornado                     6.1\n",
      "traitlets                   5.1.0\n",
      "urllib3                     1.26.6\n",
      "wcwidth                     NA\n",
      "websocket                   1.2.1\n",
      "zmq                         22.2.1\n",
      "-----\n",
      "IPython             7.27.0\n",
      "jupyter_client      7.0.2\n",
      "jupyter_core        4.7.1\n",
      "jupyterlab          3.1.10\n",
      "notebook            6.4.3\n",
      "-----\n",
      "Python 3.8.10 (default, Jun  2 2021, 10:49:15) [GCC 9.4.0]\n",
      "Linux-4.15.0-147-generic-x86_64-with-glibc2.29\n",
      "-----\n",
      "Session information updated at 2021-09-07 15:53\n"
     ]
    }
   ],
   "source": [
    "# session info\n",
    "import session_info\n",
    "session_info.show(html = False, dependencies = True)"
   ]
  }
 ],
 "metadata": {
  "kernelspec": {
   "display_name": "Python 3 (ipykernel)",
   "language": "python",
   "name": "python3"
  },
  "language_info": {
   "codemirror_mode": {
    "name": "ipython",
    "version": 3
   },
   "file_extension": ".py",
   "mimetype": "text/x-python",
   "name": "python",
   "nbconvert_exporter": "python",
   "pygments_lexer": "ipython3",
   "version": "3.8.10"
  },
  "toc": {
   "base_numbering": 1,
   "nav_menu": {},
   "number_sections": true,
   "sideBar": true,
   "skip_h1_title": false,
   "title_cell": "Table of Contents",
   "title_sidebar": "Contents",
   "toc_cell": true,
   "toc_position": {},
   "toc_section_display": true,
   "toc_window_display": false
  }
 },
 "nbformat": 4,
 "nbformat_minor": 4
}
